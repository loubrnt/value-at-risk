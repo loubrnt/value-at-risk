{
 "cells": [
  {
   "cell_type": "code",
   "execution_count": 1,
   "metadata": {},
   "outputs": [],
   "source": [
    "from utilities.data_loader import fetch_forex_data, fetch_stock_data\n",
    "fetch_forex_data('USD','CNY').to_csv(\"historical_data_usd_cny.csv\")\n",
    "fetch_forex_data('AUD','JPY').to_csv(\"historical_data_aud_jpy.csv\")\n",
    "fetch_stock_data('TTE').to_csv(\"historical_data_total.csv\")\n",
    "fetch_stock_data('SAP').to_csv(\"historical_data_sap.csv\")\n",
    "fetch_stock_data('NFLX').to_csv(\"historical_data_netflix.csv\")\n",
    "fetch_stock_data('BHP').to_csv(\"historical_data_bhp.csv\")\n",
    "fetch_stock_data('TSL').to_csv(\"historical_data_tesla.csv\")"
   ]
  },
  {
   "cell_type": "code",
   "execution_count": 2,
   "metadata": {},
   "outputs": [],
   "source": [
    "import pandas as pd"
   ]
  },
  {
   "cell_type": "code",
   "execution_count": 3,
   "metadata": {},
   "outputs": [],
   "source": [
    "total_df = pd.read_csv(\"data/historical_data_total.csv\")"
   ]
  },
  {
   "cell_type": "code",
   "execution_count": 26,
   "metadata": {},
   "outputs": [],
   "source": [
    "# Assurez-vous que la colonne \"date\" est bien au format datetime\n",
    "total_df[\"date\"] = pd.to_datetime(total_df[\"date\"])\n",
    "\n",
    "# Trouver la date limite (10 ans avant la date max)\n",
    "date_limite = total_df[\"date\"].max() - pd.DateOffset(years=5)\n",
    "\n",
    "# Filtrer le DataFrame pour ne garder que les données des 10 dernières années\n",
    "df_recent = total_df[total_df[\"date\"] >= date_limite]"
   ]
  },
  {
   "cell_type": "code",
   "execution_count": 54,
   "metadata": {},
   "outputs": [
    {
     "data": {
      "application/vnd.plotly.v1+json": {
       "config": {
        "plotlyServerURL": "https://plot.ly"
       },
       "data": [
        {
         "marker": {
          "color": "royalblue",
          "line": {
           "color": "black",
           "width": 1.2
          }
         },
         "nbinsx": 300,
         "opacity": 0.75,
         "showlegend": false,
         "type": "histogram",
         "x": {
          "bdata": "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",
          "dtype": "f8"
         }
        },
        {
         "line": {
          "color": "red",
          "width": 2
         },
         "mode": "lines",
         "name": "Gaussienne (μ=0.04%, σ=2.19%)",
         "type": "scatter",
         "x": {
          "bdata": "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",
          "dtype": "f8"
         },
         "y": {
          "bdata": "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",
          "dtype": "f8"
         }
        }
       ],
       "layout": {
        "annotations": [
         {
          "arrowhead": 2,
          "ax": 40,
          "ay": -40,
          "font": {
           "color": "lime"
          },
          "showarrow": true,
          "text": "μ: 0.04%",
          "x": 0.00042352909868986093,
          "y": 22.707397268701044
         },
         {
          "arrowhead": 2,
          "ax": -40,
          "ay": -40,
          "font": {
           "color": "orange"
          },
          "showarrow": true,
          "text": "μ - σ: -2.15%",
          "x": -0.021520919238743295,
          "y": 17.661308986767477
         },
         {
          "arrowhead": 2,
          "ax": 40,
          "ay": -40,
          "font": {
           "color": "orange"
          },
          "showarrow": true,
          "text": "μ + σ: 2.24%",
          "x": 0.022367977436123017,
          "y": 17.661308986767477
         }
        ],
        "legend": {
         "orientation": "h",
         "x": 0.1,
         "xanchor": "left",
         "y": 0.93,
         "yanchor": "bottom"
        },
        "shapes": [
         {
          "line": {
           "color": "lime",
           "dash": "dash"
          },
          "type": "line",
          "x0": 0.00042352909868986093,
          "x1": 0.00042352909868986093,
          "y0": 0,
          "y1": 25.230441409667826
         },
         {
          "line": {
           "color": "orange",
           "dash": "dot"
          },
          "type": "line",
          "x0": -0.021520919238743295,
          "x1": -0.021520919238743295,
          "y0": 0,
          "y1": 25.230441409667826
         },
         {
          "line": {
           "color": "orange",
           "dash": "dot"
          },
          "type": "line",
          "x0": 0.022367977436123017,
          "x1": 0.022367977436123017,
          "y0": 0,
          "y1": 25.230441409667826
         }
        ],
        "template": {
         "data": {
          "bar": [
           {
            "error_x": {
             "color": "#2a3f5f"
            },
            "error_y": {
             "color": "#2a3f5f"
            },
            "marker": {
             "line": {
              "color": "white",
              "width": 0.5
             },
             "pattern": {
              "fillmode": "overlay",
              "size": 10,
              "solidity": 0.2
             }
            },
            "type": "bar"
           }
          ],
          "barpolar": [
           {
            "marker": {
             "line": {
              "color": "white",
              "width": 0.5
             },
             "pattern": {
              "fillmode": "overlay",
              "size": 10,
              "solidity": 0.2
             }
            },
            "type": "barpolar"
           }
          ],
          "carpet": [
           {
            "aaxis": {
             "endlinecolor": "#2a3f5f",
             "gridcolor": "#C8D4E3",
             "linecolor": "#C8D4E3",
             "minorgridcolor": "#C8D4E3",
             "startlinecolor": "#2a3f5f"
            },
            "baxis": {
             "endlinecolor": "#2a3f5f",
             "gridcolor": "#C8D4E3",
             "linecolor": "#C8D4E3",
             "minorgridcolor": "#C8D4E3",
             "startlinecolor": "#2a3f5f"
            },
            "type": "carpet"
           }
          ],
          "choropleth": [
           {
            "colorbar": {
             "outlinewidth": 0,
             "ticks": ""
            },
            "type": "choropleth"
           }
          ],
          "contour": [
           {
            "colorbar": {
             "outlinewidth": 0,
             "ticks": ""
            },
            "colorscale": [
             [
              0,
              "#0d0887"
             ],
             [
              0.1111111111111111,
              "#46039f"
             ],
             [
              0.2222222222222222,
              "#7201a8"
             ],
             [
              0.3333333333333333,
              "#9c179e"
             ],
             [
              0.4444444444444444,
              "#bd3786"
             ],
             [
              0.5555555555555556,
              "#d8576b"
             ],
             [
              0.6666666666666666,
              "#ed7953"
             ],
             [
              0.7777777777777778,
              "#fb9f3a"
             ],
             [
              0.8888888888888888,
              "#fdca26"
             ],
             [
              1,
              "#f0f921"
             ]
            ],
            "type": "contour"
           }
          ],
          "contourcarpet": [
           {
            "colorbar": {
             "outlinewidth": 0,
             "ticks": ""
            },
            "type": "contourcarpet"
           }
          ],
          "heatmap": [
           {
            "colorbar": {
             "outlinewidth": 0,
             "ticks": ""
            },
            "colorscale": [
             [
              0,
              "#0d0887"
             ],
             [
              0.1111111111111111,
              "#46039f"
             ],
             [
              0.2222222222222222,
              "#7201a8"
             ],
             [
              0.3333333333333333,
              "#9c179e"
             ],
             [
              0.4444444444444444,
              "#bd3786"
             ],
             [
              0.5555555555555556,
              "#d8576b"
             ],
             [
              0.6666666666666666,
              "#ed7953"
             ],
             [
              0.7777777777777778,
              "#fb9f3a"
             ],
             [
              0.8888888888888888,
              "#fdca26"
             ],
             [
              1,
              "#f0f921"
             ]
            ],
            "type": "heatmap"
           }
          ],
          "histogram": [
           {
            "marker": {
             "pattern": {
              "fillmode": "overlay",
              "size": 10,
              "solidity": 0.2
             }
            },
            "type": "histogram"
           }
          ],
          "histogram2d": [
           {
            "colorbar": {
             "outlinewidth": 0,
             "ticks": ""
            },
            "colorscale": [
             [
              0,
              "#0d0887"
             ],
             [
              0.1111111111111111,
              "#46039f"
             ],
             [
              0.2222222222222222,
              "#7201a8"
             ],
             [
              0.3333333333333333,
              "#9c179e"
             ],
             [
              0.4444444444444444,
              "#bd3786"
             ],
             [
              0.5555555555555556,
              "#d8576b"
             ],
             [
              0.6666666666666666,
              "#ed7953"
             ],
             [
              0.7777777777777778,
              "#fb9f3a"
             ],
             [
              0.8888888888888888,
              "#fdca26"
             ],
             [
              1,
              "#f0f921"
             ]
            ],
            "type": "histogram2d"
           }
          ],
          "histogram2dcontour": [
           {
            "colorbar": {
             "outlinewidth": 0,
             "ticks": ""
            },
            "colorscale": [
             [
              0,
              "#0d0887"
             ],
             [
              0.1111111111111111,
              "#46039f"
             ],
             [
              0.2222222222222222,
              "#7201a8"
             ],
             [
              0.3333333333333333,
              "#9c179e"
             ],
             [
              0.4444444444444444,
              "#bd3786"
             ],
             [
              0.5555555555555556,
              "#d8576b"
             ],
             [
              0.6666666666666666,
              "#ed7953"
             ],
             [
              0.7777777777777778,
              "#fb9f3a"
             ],
             [
              0.8888888888888888,
              "#fdca26"
             ],
             [
              1,
              "#f0f921"
             ]
            ],
            "type": "histogram2dcontour"
           }
          ],
          "mesh3d": [
           {
            "colorbar": {
             "outlinewidth": 0,
             "ticks": ""
            },
            "type": "mesh3d"
           }
          ],
          "parcoords": [
           {
            "line": {
             "colorbar": {
              "outlinewidth": 0,
              "ticks": ""
             }
            },
            "type": "parcoords"
           }
          ],
          "pie": [
           {
            "automargin": true,
            "type": "pie"
           }
          ],
          "scatter": [
           {
            "fillpattern": {
             "fillmode": "overlay",
             "size": 10,
             "solidity": 0.2
            },
            "type": "scatter"
           }
          ],
          "scatter3d": [
           {
            "line": {
             "colorbar": {
              "outlinewidth": 0,
              "ticks": ""
             }
            },
            "marker": {
             "colorbar": {
              "outlinewidth": 0,
              "ticks": ""
             }
            },
            "type": "scatter3d"
           }
          ],
          "scattercarpet": [
           {
            "marker": {
             "colorbar": {
              "outlinewidth": 0,
              "ticks": ""
             }
            },
            "type": "scattercarpet"
           }
          ],
          "scattergeo": [
           {
            "marker": {
             "colorbar": {
              "outlinewidth": 0,
              "ticks": ""
             }
            },
            "type": "scattergeo"
           }
          ],
          "scattergl": [
           {
            "marker": {
             "colorbar": {
              "outlinewidth": 0,
              "ticks": ""
             }
            },
            "type": "scattergl"
           }
          ],
          "scattermap": [
           {
            "marker": {
             "colorbar": {
              "outlinewidth": 0,
              "ticks": ""
             }
            },
            "type": "scattermap"
           }
          ],
          "scattermapbox": [
           {
            "marker": {
             "colorbar": {
              "outlinewidth": 0,
              "ticks": ""
             }
            },
            "type": "scattermapbox"
           }
          ],
          "scatterpolar": [
           {
            "marker": {
             "colorbar": {
              "outlinewidth": 0,
              "ticks": ""
             }
            },
            "type": "scatterpolar"
           }
          ],
          "scatterpolargl": [
           {
            "marker": {
             "colorbar": {
              "outlinewidth": 0,
              "ticks": ""
             }
            },
            "type": "scatterpolargl"
           }
          ],
          "scatterternary": [
           {
            "marker": {
             "colorbar": {
              "outlinewidth": 0,
              "ticks": ""
             }
            },
            "type": "scatterternary"
           }
          ],
          "surface": [
           {
            "colorbar": {
             "outlinewidth": 0,
             "ticks": ""
            },
            "colorscale": [
             [
              0,
              "#0d0887"
             ],
             [
              0.1111111111111111,
              "#46039f"
             ],
             [
              0.2222222222222222,
              "#7201a8"
             ],
             [
              0.3333333333333333,
              "#9c179e"
             ],
             [
              0.4444444444444444,
              "#bd3786"
             ],
             [
              0.5555555555555556,
              "#d8576b"
             ],
             [
              0.6666666666666666,
              "#ed7953"
             ],
             [
              0.7777777777777778,
              "#fb9f3a"
             ],
             [
              0.8888888888888888,
              "#fdca26"
             ],
             [
              1,
              "#f0f921"
             ]
            ],
            "type": "surface"
           }
          ],
          "table": [
           {
            "cells": {
             "fill": {
              "color": "#EBF0F8"
             },
             "line": {
              "color": "white"
             }
            },
            "header": {
             "fill": {
              "color": "#C8D4E3"
             },
             "line": {
              "color": "white"
             }
            },
            "type": "table"
           }
          ]
         },
         "layout": {
          "annotationdefaults": {
           "arrowcolor": "#2a3f5f",
           "arrowhead": 0,
           "arrowwidth": 1
          },
          "autotypenumbers": "strict",
          "coloraxis": {
           "colorbar": {
            "outlinewidth": 0,
            "ticks": ""
           }
          },
          "colorscale": {
           "diverging": [
            [
             0,
             "#8e0152"
            ],
            [
             0.1,
             "#c51b7d"
            ],
            [
             0.2,
             "#de77ae"
            ],
            [
             0.3,
             "#f1b6da"
            ],
            [
             0.4,
             "#fde0ef"
            ],
            [
             0.5,
             "#f7f7f7"
            ],
            [
             0.6,
             "#e6f5d0"
            ],
            [
             0.7,
             "#b8e186"
            ],
            [
             0.8,
             "#7fbc41"
            ],
            [
             0.9,
             "#4d9221"
            ],
            [
             1,
             "#276419"
            ]
           ],
           "sequential": [
            [
             0,
             "#0d0887"
            ],
            [
             0.1111111111111111,
             "#46039f"
            ],
            [
             0.2222222222222222,
             "#7201a8"
            ],
            [
             0.3333333333333333,
             "#9c179e"
            ],
            [
             0.4444444444444444,
             "#bd3786"
            ],
            [
             0.5555555555555556,
             "#d8576b"
            ],
            [
             0.6666666666666666,
             "#ed7953"
            ],
            [
             0.7777777777777778,
             "#fb9f3a"
            ],
            [
             0.8888888888888888,
             "#fdca26"
            ],
            [
             1,
             "#f0f921"
            ]
           ],
           "sequentialminus": [
            [
             0,
             "#0d0887"
            ],
            [
             0.1111111111111111,
             "#46039f"
            ],
            [
             0.2222222222222222,
             "#7201a8"
            ],
            [
             0.3333333333333333,
             "#9c179e"
            ],
            [
             0.4444444444444444,
             "#bd3786"
            ],
            [
             0.5555555555555556,
             "#d8576b"
            ],
            [
             0.6666666666666666,
             "#ed7953"
            ],
            [
             0.7777777777777778,
             "#fb9f3a"
            ],
            [
             0.8888888888888888,
             "#fdca26"
            ],
            [
             1,
             "#f0f921"
            ]
           ]
          },
          "colorway": [
           "#636efa",
           "#EF553B",
           "#00cc96",
           "#ab63fa",
           "#FFA15A",
           "#19d3f3",
           "#FF6692",
           "#B6E880",
           "#FF97FF",
           "#FECB52"
          ],
          "font": {
           "color": "#2a3f5f"
          },
          "geo": {
           "bgcolor": "white",
           "lakecolor": "white",
           "landcolor": "white",
           "showlakes": true,
           "showland": true,
           "subunitcolor": "#C8D4E3"
          },
          "hoverlabel": {
           "align": "left"
          },
          "hovermode": "closest",
          "mapbox": {
           "style": "light"
          },
          "paper_bgcolor": "white",
          "plot_bgcolor": "white",
          "polar": {
           "angularaxis": {
            "gridcolor": "#EBF0F8",
            "linecolor": "#EBF0F8",
            "ticks": ""
           },
           "bgcolor": "white",
           "radialaxis": {
            "gridcolor": "#EBF0F8",
            "linecolor": "#EBF0F8",
            "ticks": ""
           }
          },
          "scene": {
           "xaxis": {
            "backgroundcolor": "white",
            "gridcolor": "#DFE8F3",
            "gridwidth": 2,
            "linecolor": "#EBF0F8",
            "showbackground": true,
            "ticks": "",
            "zerolinecolor": "#EBF0F8"
           },
           "yaxis": {
            "backgroundcolor": "white",
            "gridcolor": "#DFE8F3",
            "gridwidth": 2,
            "linecolor": "#EBF0F8",
            "showbackground": true,
            "ticks": "",
            "zerolinecolor": "#EBF0F8"
           },
           "zaxis": {
            "backgroundcolor": "white",
            "gridcolor": "#DFE8F3",
            "gridwidth": 2,
            "linecolor": "#EBF0F8",
            "showbackground": true,
            "ticks": "",
            "zerolinecolor": "#EBF0F8"
           }
          },
          "shapedefaults": {
           "line": {
            "color": "#2a3f5f"
           }
          },
          "ternary": {
           "aaxis": {
            "gridcolor": "#DFE8F3",
            "linecolor": "#A2B1C6",
            "ticks": ""
           },
           "baxis": {
            "gridcolor": "#DFE8F3",
            "linecolor": "#A2B1C6",
            "ticks": ""
           },
           "bgcolor": "white",
           "caxis": {
            "gridcolor": "#DFE8F3",
            "linecolor": "#A2B1C6",
            "ticks": ""
           }
          },
          "title": {
           "x": 0.05
          },
          "xaxis": {
           "automargin": true,
           "gridcolor": "#EBF0F8",
           "linecolor": "#EBF0F8",
           "ticks": "",
           "title": {
            "standoff": 15
           },
           "zerolinecolor": "#EBF0F8",
           "zerolinewidth": 2
          },
          "yaxis": {
           "automargin": true,
           "gridcolor": "#EBF0F8",
           "linecolor": "#EBF0F8",
           "ticks": "",
           "title": {
            "standoff": 15
           },
           "zerolinecolor": "#EBF0F8",
           "zerolinewidth": 2
          }
         }
        },
        "title": {
         "text": "Distribution des Rendements Quotidiens"
        },
        "xaxis": {
         "tickformat": ".2%",
         "title": {
          "text": "Rendement Quotidien"
         }
        },
        "yaxis": {
         "title": {
          "text": "Nombre de Jours"
         }
        }
       }
      }
     },
     "metadata": {},
     "output_type": "display_data"
    }
   ],
   "source": [
    "import plotly.graph_objects as go\n",
    "import numpy as np\n",
    "from scipy.stats import norm\n",
    "\n",
    "# 📌 Suppression des NaN\n",
    "data = df_recent[\"simple_return\"].dropna()\n",
    "\n",
    "# Calcul de la moyenne (μ) et de l'écart-type (σ)\n",
    "mean = data.mean()\n",
    "std = data.std()\n",
    "\n",
    "# 🔲 Création de l'histogramme avec contours bien visibles\n",
    "fig = go.Figure()\n",
    "\n",
    "fig.add_trace(go.Histogram(\n",
    "    x=data,\n",
    "    nbinsx=300,  # Ajuste le nombre de bins pour plus de lisibilité\n",
    "    marker=dict(\n",
    "        color=\"royalblue\",\n",
    "        line=dict(width=1.2, color=\"black\")\n",
    "    ),\n",
    "    opacity=0.75,\n",
    "    showlegend=False  # 🔥 Supprime la légende de l'histogramme\n",
    "))\n",
    "\n",
    "# 📈 Création de la courbe gaussienne avec scipy.stats.norm\n",
    "x_values = np.linspace(data.min(), data.max(), 1000)\n",
    "pdf = norm.pdf(x_values, loc=mean, scale=std)\n",
    "bin_width = (data.max() - data.min()) / 300  # largeur d'un bin\n",
    "scaled_pdf = pdf * len(data) * bin_width\n",
    "\n",
    "fig.add_trace(go.Scatter(\n",
    "    x=x_values,\n",
    "    y=scaled_pdf,\n",
    "    mode='lines',\n",
    "    line=dict(color='red', width=2),\n",
    "    name=f'Gaussienne (μ={mean:.2%}, σ={std:.2%})'\n",
    "))\n",
    "\n",
    "# ➖ Ajout d'une ligne verticale pour μ en vert fluo (lime)\n",
    "fig.add_shape(\n",
    "    type=\"line\",\n",
    "    x0=mean, x1=mean,\n",
    "    y0=0, y1=max(scaled_pdf),\n",
    "    line=dict(color=\"lime\", dash=\"dash\")\n",
    ")\n",
    "fig.add_annotation(\n",
    "    x=mean,\n",
    "    y=max(scaled_pdf)*0.9,\n",
    "    text=f\"μ: {mean:.2%}\",\n",
    "    showarrow=True,\n",
    "    arrowhead=2,\n",
    "    ax=40,\n",
    "    ay=-40,\n",
    "    font=dict(color=\"lime\")\n",
    ")\n",
    "\n",
    "# ➖ Ajout des lignes verticales pour μ - σ et μ + σ en orange (pointillé)\n",
    "fig.add_shape(\n",
    "    type=\"line\",\n",
    "    x0=mean - std, x1=mean - std,\n",
    "    y0=0, y1=max(scaled_pdf),\n",
    "    line=dict(color=\"orange\", dash=\"dot\")\n",
    ")\n",
    "fig.add_annotation(\n",
    "    x=mean - std,\n",
    "    y=max(scaled_pdf)*0.7,\n",
    "    text=f\"μ - σ: {(mean - std):.2%}\",\n",
    "    showarrow=True,\n",
    "    arrowhead=2,\n",
    "    ax=-40,\n",
    "    ay=-40,\n",
    "    font=dict(color=\"orange\")\n",
    ")\n",
    "\n",
    "fig.add_shape(\n",
    "    type=\"line\",\n",
    "    x0=mean + std, x1=mean + std,\n",
    "    y0=0, y1=max(scaled_pdf),\n",
    "    line=dict(color=\"orange\", dash=\"dot\")\n",
    ")\n",
    "fig.add_annotation(\n",
    "    x=mean + std,\n",
    "    y=max(scaled_pdf)*0.7,\n",
    "    text=f\"μ + σ: {(mean + std):.2%}\",\n",
    "    showarrow=True,\n",
    "    arrowhead=2,\n",
    "    ax=40,\n",
    "    ay=-40,\n",
    "    font=dict(color=\"orange\")\n",
    ")\n",
    "\n",
    "# 🎨 Mise en forme du graphique avec légende légèrement décalée à gauche sous le titre\n",
    "fig.update_layout(\n",
    "    title=\"Distribution des Rendements Quotidiens\",\n",
    "    xaxis_title=\"Rendement Quotidien\",\n",
    "    yaxis_title=\"Nombre de Jours\",\n",
    "    xaxis=dict(tickformat=\".2%\"),\n",
    "    template=\"plotly_white\",\n",
    "    legend=dict(\n",
    "        orientation=\"h\",    # Orientation horizontale\n",
    "        yanchor=\"bottom\",\n",
    "        y=0.93,             # Ajustez cette valeur pour positionner la légende juste sous le titre\n",
    "        xanchor=\"left\",     # Ancre la légende à gauche\n",
    "        x=0.1               # Décale légèrement vers la gauche\n",
    "    )\n",
    ")\n",
    "\n",
    "# 📈 Affichage\n",
    "fig.show()\n"
   ]
  },
  {
   "cell_type": "code",
   "execution_count": 65,
   "metadata": {},
   "outputs": [],
   "source": [
    "import plotly.graph_objects as go\n",
    "import numpy as np\n",
    "from scipy.stats import norm\n",
    "\n",
    "def plot_return_distribution(df, nbins=300, duration=None, return_type='simple'):\n",
    "    \"\"\"\n",
    "    Affiche la distribution des rendements historiques sous forme d'histogramme \n",
    "    avec la courbe gaussienne associée, et ajoute des annotations pour la moyenne et l'écart-type.\n",
    "    \n",
    "    Paramètres:\n",
    "        df (DataFrame): DataFrame contenant les colonnes \"simple_return\" et \"log_return\".\n",
    "        nbins (int): Nombre de bins pour l'histogramme.\n",
    "        duration (int): Nombre de dernières observations à considérer. Si None, tous les rendements sont pris en compte.\n",
    "        return_type (str): 'simple' pour utiliser la colonne \"simple_return\" ou 'log' pour \"log_return\".\n",
    "    \n",
    "    Retour:\n",
    "        fig (Figure): Objet Figure de Plotly contenant le graphique.\n",
    "    \"\"\"\n",
    "    # Sélection de la série de rendement selon le type choisi\n",
    "    if return_type == 'simple':\n",
    "        data = df[\"simple_return\"].dropna()\n",
    "    elif return_type == 'log':\n",
    "        data = df[\"log_return\"].dropna()\n",
    "    else:\n",
    "        raise ValueError(\"Le paramètre return_type doit être 'simple' ou 'log'.\")\n",
    "\n",
    "    # Filtrage de la série selon la durée (nombre de dernières observations)\n",
    "    if duration is not None:\n",
    "        data = data.tail(duration)\n",
    "    \n",
    "    # Calcul de la moyenne (μ) et de l'écart-type (σ)\n",
    "    mean = data.mean()\n",
    "    std = data.std()\n",
    "\n",
    "    # Création de la figure Plotly\n",
    "    fig = go.Figure()\n",
    "\n",
    "    # Ajout de l'histogramme\n",
    "    fig.add_trace(go.Histogram(\n",
    "        x=data,\n",
    "        nbinsx=nbins,\n",
    "        marker=dict(\n",
    "            color=\"royalblue\",\n",
    "            line=dict(width=1.2, color=\"black\")\n",
    "        ),\n",
    "        opacity=0.75,\n",
    "        showlegend=False\n",
    "    ))\n",
    "\n",
    "    # Calcul et ajout de la courbe gaussienne\n",
    "    x_values = np.linspace(data.min(), data.max(), 1000)\n",
    "    pdf = norm.pdf(x_values, loc=mean, scale=std)\n",
    "    bin_width = (data.max() - data.min()) / nbins\n",
    "    scaled_pdf = pdf * len(data) * bin_width\n",
    "\n",
    "    fig.add_trace(go.Scatter(\n",
    "        x=x_values,\n",
    "        y=scaled_pdf,\n",
    "        mode='lines',\n",
    "        line=dict(color='red', width=2),\n",
    "        name=f'Gaussienne (μ={mean:.2%}, σ={std:.2%})'\n",
    "    ))\n",
    "\n",
    "    # Ligne verticale pour la moyenne (μ)\n",
    "    fig.add_shape(\n",
    "        type=\"line\",\n",
    "        x0=mean, x1=mean,\n",
    "        y0=0, y1=max(scaled_pdf),\n",
    "        line=dict(color=\"lime\", dash=\"dash\")\n",
    "    )\n",
    "    fig.add_annotation(\n",
    "        x=mean,\n",
    "        y=max(scaled_pdf)*0.9,\n",
    "        text=f\"μ: {mean:.2%}\",\n",
    "        showarrow=True,\n",
    "        arrowhead=2,\n",
    "        ax=40,\n",
    "        ay=-40,\n",
    "        font=dict(color=\"lime\")\n",
    "    )\n",
    "\n",
    "    # Lignes verticales pour μ - σ et μ + σ\n",
    "    fig.add_shape(\n",
    "        type=\"line\",\n",
    "        x0=mean - std, x1=mean - std,\n",
    "        y0=0, y1=max(scaled_pdf),\n",
    "        line=dict(color=\"orange\", dash=\"dot\")\n",
    "    )\n",
    "    fig.add_annotation(\n",
    "        x=mean - std,\n",
    "        y=max(scaled_pdf)*0.7,\n",
    "        text=f\"μ - σ: {(mean - std):.2%}\",\n",
    "        showarrow=True,\n",
    "        arrowhead=2,\n",
    "        ax=-40,\n",
    "        ay=-40,\n",
    "        font=dict(color=\"orange\")\n",
    "    )\n",
    "\n",
    "    fig.add_shape(\n",
    "        type=\"line\",\n",
    "        x0=mean + std, x1=mean + std,\n",
    "        y0=0, y1=max(scaled_pdf),\n",
    "        line=dict(color=\"orange\", dash=\"dot\")\n",
    "    )\n",
    "    fig.add_annotation(\n",
    "        x=mean + std,\n",
    "        y=max(scaled_pdf)*0.7,\n",
    "        text=f\"μ + σ: {(mean + std):.2%}\",\n",
    "        showarrow=True,\n",
    "        arrowhead=2,\n",
    "        ax=40,\n",
    "        ay=-40,\n",
    "        font=dict(color=\"orange\")\n",
    "    )\n",
    "\n",
    "    # Mise en forme du graphique\n",
    "    fig.update_layout(\n",
    "        title=\"Distribution des Rendements Quotidiens\",\n",
    "        xaxis_title=\"Rendement Quotidien\",\n",
    "        yaxis_title=\"Nombre de Jours\",\n",
    "        xaxis=dict(tickformat=\".2%\"),\n",
    "        template=\"plotly_white\",\n",
    "        legend=dict(\n",
    "            orientation=\"h\",\n",
    "            yanchor=\"bottom\",\n",
    "            y=0.93,\n",
    "            xanchor=\"left\",\n",
    "            x=0.1\n",
    "        )\n",
    "    )\n",
    "\n",
    "    return fig"
   ]
  },
  {
   "cell_type": "code",
   "execution_count": 66,
   "metadata": {},
   "outputs": [
    {
     "data": {
      "application/vnd.plotly.v1+json": {
       "config": {
        "plotlyServerURL": "https://plot.ly"
       },
       "data": [
        {
         "marker": {
          "color": "royalblue",
          "line": {
           "color": "black",
           "width": 1.2
          }
         },
         "nbinsx": 300,
         "opacity": 0.75,
         "showlegend": false,
         "type": "histogram",
         "x": {
          "bdata": "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",
          "dtype": "f8"
         }
        },
        {
         "line": {
          "color": "red",
          "width": 2
         },
         "mode": "lines",
         "name": "Gaussienne (μ=0.03%, σ=2.40%)",
         "type": "scatter",
         "x": {
          "bdata": "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",
          "dtype": "f8"
         },
         "y": {
          "bdata": "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",
          "dtype": "f8"
         }
        }
       ],
       "layout": {
        "annotations": [
         {
          "arrowhead": 2,
          "ax": 40,
          "ay": -40,
          "font": {
           "color": "lime"
          },
          "showarrow": true,
          "text": "μ: 0.03%",
          "x": 0.00028524891824746547,
          "y": 16.8600023394464
         },
         {
          "arrowhead": 2,
          "ax": -40,
          "ay": -40,
          "font": {
           "color": "orange"
          },
          "showarrow": true,
          "text": "μ - σ: -2.37%",
          "x": -0.023738098691039086,
          "y": 13.113335152902755
         },
         {
          "arrowhead": 2,
          "ax": 40,
          "ay": -40,
          "font": {
           "color": "orange"
          },
          "showarrow": true,
          "text": "μ + σ: 2.43%",
          "x": 0.024308596527534018,
          "y": 13.113335152902755
         }
        ],
        "legend": {
         "orientation": "h",
         "x": 0.1,
         "xanchor": "left",
         "y": 0.93,
         "yanchor": "bottom"
        },
        "shapes": [
         {
          "line": {
           "color": "lime",
           "dash": "dash"
          },
          "type": "line",
          "x0": 0.00028524891824746547,
          "x1": 0.00028524891824746547,
          "y0": 0,
          "y1": 18.733335932718223
         },
         {
          "line": {
           "color": "orange",
           "dash": "dot"
          },
          "type": "line",
          "x0": -0.023738098691039086,
          "x1": -0.023738098691039086,
          "y0": 0,
          "y1": 18.733335932718223
         },
         {
          "line": {
           "color": "orange",
           "dash": "dot"
          },
          "type": "line",
          "x0": 0.024308596527534018,
          "x1": 0.024308596527534018,
          "y0": 0,
          "y1": 18.733335932718223
         }
        ],
        "template": {
         "data": {
          "bar": [
           {
            "error_x": {
             "color": "#2a3f5f"
            },
            "error_y": {
             "color": "#2a3f5f"
            },
            "marker": {
             "line": {
              "color": "white",
              "width": 0.5
             },
             "pattern": {
              "fillmode": "overlay",
              "size": 10,
              "solidity": 0.2
             }
            },
            "type": "bar"
           }
          ],
          "barpolar": [
           {
            "marker": {
             "line": {
              "color": "white",
              "width": 0.5
             },
             "pattern": {
              "fillmode": "overlay",
              "size": 10,
              "solidity": 0.2
             }
            },
            "type": "barpolar"
           }
          ],
          "carpet": [
           {
            "aaxis": {
             "endlinecolor": "#2a3f5f",
             "gridcolor": "#C8D4E3",
             "linecolor": "#C8D4E3",
             "minorgridcolor": "#C8D4E3",
             "startlinecolor": "#2a3f5f"
            },
            "baxis": {
             "endlinecolor": "#2a3f5f",
             "gridcolor": "#C8D4E3",
             "linecolor": "#C8D4E3",
             "minorgridcolor": "#C8D4E3",
             "startlinecolor": "#2a3f5f"
            },
            "type": "carpet"
           }
          ],
          "choropleth": [
           {
            "colorbar": {
             "outlinewidth": 0,
             "ticks": ""
            },
            "type": "choropleth"
           }
          ],
          "contour": [
           {
            "colorbar": {
             "outlinewidth": 0,
             "ticks": ""
            },
            "colorscale": [
             [
              0,
              "#0d0887"
             ],
             [
              0.1111111111111111,
              "#46039f"
             ],
             [
              0.2222222222222222,
              "#7201a8"
             ],
             [
              0.3333333333333333,
              "#9c179e"
             ],
             [
              0.4444444444444444,
              "#bd3786"
             ],
             [
              0.5555555555555556,
              "#d8576b"
             ],
             [
              0.6666666666666666,
              "#ed7953"
             ],
             [
              0.7777777777777778,
              "#fb9f3a"
             ],
             [
              0.8888888888888888,
              "#fdca26"
             ],
             [
              1,
              "#f0f921"
             ]
            ],
            "type": "contour"
           }
          ],
          "contourcarpet": [
           {
            "colorbar": {
             "outlinewidth": 0,
             "ticks": ""
            },
            "type": "contourcarpet"
           }
          ],
          "heatmap": [
           {
            "colorbar": {
             "outlinewidth": 0,
             "ticks": ""
            },
            "colorscale": [
             [
              0,
              "#0d0887"
             ],
             [
              0.1111111111111111,
              "#46039f"
             ],
             [
              0.2222222222222222,
              "#7201a8"
             ],
             [
              0.3333333333333333,
              "#9c179e"
             ],
             [
              0.4444444444444444,
              "#bd3786"
             ],
             [
              0.5555555555555556,
              "#d8576b"
             ],
             [
              0.6666666666666666,
              "#ed7953"
             ],
             [
              0.7777777777777778,
              "#fb9f3a"
             ],
             [
              0.8888888888888888,
              "#fdca26"
             ],
             [
              1,
              "#f0f921"
             ]
            ],
            "type": "heatmap"
           }
          ],
          "histogram": [
           {
            "marker": {
             "pattern": {
              "fillmode": "overlay",
              "size": 10,
              "solidity": 0.2
             }
            },
            "type": "histogram"
           }
          ],
          "histogram2d": [
           {
            "colorbar": {
             "outlinewidth": 0,
             "ticks": ""
            },
            "colorscale": [
             [
              0,
              "#0d0887"
             ],
             [
              0.1111111111111111,
              "#46039f"
             ],
             [
              0.2222222222222222,
              "#7201a8"
             ],
             [
              0.3333333333333333,
              "#9c179e"
             ],
             [
              0.4444444444444444,
              "#bd3786"
             ],
             [
              0.5555555555555556,
              "#d8576b"
             ],
             [
              0.6666666666666666,
              "#ed7953"
             ],
             [
              0.7777777777777778,
              "#fb9f3a"
             ],
             [
              0.8888888888888888,
              "#fdca26"
             ],
             [
              1,
              "#f0f921"
             ]
            ],
            "type": "histogram2d"
           }
          ],
          "histogram2dcontour": [
           {
            "colorbar": {
             "outlinewidth": 0,
             "ticks": ""
            },
            "colorscale": [
             [
              0,
              "#0d0887"
             ],
             [
              0.1111111111111111,
              "#46039f"
             ],
             [
              0.2222222222222222,
              "#7201a8"
             ],
             [
              0.3333333333333333,
              "#9c179e"
             ],
             [
              0.4444444444444444,
              "#bd3786"
             ],
             [
              0.5555555555555556,
              "#d8576b"
             ],
             [
              0.6666666666666666,
              "#ed7953"
             ],
             [
              0.7777777777777778,
              "#fb9f3a"
             ],
             [
              0.8888888888888888,
              "#fdca26"
             ],
             [
              1,
              "#f0f921"
             ]
            ],
            "type": "histogram2dcontour"
           }
          ],
          "mesh3d": [
           {
            "colorbar": {
             "outlinewidth": 0,
             "ticks": ""
            },
            "type": "mesh3d"
           }
          ],
          "parcoords": [
           {
            "line": {
             "colorbar": {
              "outlinewidth": 0,
              "ticks": ""
             }
            },
            "type": "parcoords"
           }
          ],
          "pie": [
           {
            "automargin": true,
            "type": "pie"
           }
          ],
          "scatter": [
           {
            "fillpattern": {
             "fillmode": "overlay",
             "size": 10,
             "solidity": 0.2
            },
            "type": "scatter"
           }
          ],
          "scatter3d": [
           {
            "line": {
             "colorbar": {
              "outlinewidth": 0,
              "ticks": ""
             }
            },
            "marker": {
             "colorbar": {
              "outlinewidth": 0,
              "ticks": ""
             }
            },
            "type": "scatter3d"
           }
          ],
          "scattercarpet": [
           {
            "marker": {
             "colorbar": {
              "outlinewidth": 0,
              "ticks": ""
             }
            },
            "type": "scattercarpet"
           }
          ],
          "scattergeo": [
           {
            "marker": {
             "colorbar": {
              "outlinewidth": 0,
              "ticks": ""
             }
            },
            "type": "scattergeo"
           }
          ],
          "scattergl": [
           {
            "marker": {
             "colorbar": {
              "outlinewidth": 0,
              "ticks": ""
             }
            },
            "type": "scattergl"
           }
          ],
          "scattermap": [
           {
            "marker": {
             "colorbar": {
              "outlinewidth": 0,
              "ticks": ""
             }
            },
            "type": "scattermap"
           }
          ],
          "scattermapbox": [
           {
            "marker": {
             "colorbar": {
              "outlinewidth": 0,
              "ticks": ""
             }
            },
            "type": "scattermapbox"
           }
          ],
          "scatterpolar": [
           {
            "marker": {
             "colorbar": {
              "outlinewidth": 0,
              "ticks": ""
             }
            },
            "type": "scatterpolar"
           }
          ],
          "scatterpolargl": [
           {
            "marker": {
             "colorbar": {
              "outlinewidth": 0,
              "ticks": ""
             }
            },
            "type": "scatterpolargl"
           }
          ],
          "scatterternary": [
           {
            "marker": {
             "colorbar": {
              "outlinewidth": 0,
              "ticks": ""
             }
            },
            "type": "scatterternary"
           }
          ],
          "surface": [
           {
            "colorbar": {
             "outlinewidth": 0,
             "ticks": ""
            },
            "colorscale": [
             [
              0,
              "#0d0887"
             ],
             [
              0.1111111111111111,
              "#46039f"
             ],
             [
              0.2222222222222222,
              "#7201a8"
             ],
             [
              0.3333333333333333,
              "#9c179e"
             ],
             [
              0.4444444444444444,
              "#bd3786"
             ],
             [
              0.5555555555555556,
              "#d8576b"
             ],
             [
              0.6666666666666666,
              "#ed7953"
             ],
             [
              0.7777777777777778,
              "#fb9f3a"
             ],
             [
              0.8888888888888888,
              "#fdca26"
             ],
             [
              1,
              "#f0f921"
             ]
            ],
            "type": "surface"
           }
          ],
          "table": [
           {
            "cells": {
             "fill": {
              "color": "#EBF0F8"
             },
             "line": {
              "color": "white"
             }
            },
            "header": {
             "fill": {
              "color": "#C8D4E3"
             },
             "line": {
              "color": "white"
             }
            },
            "type": "table"
           }
          ]
         },
         "layout": {
          "annotationdefaults": {
           "arrowcolor": "#2a3f5f",
           "arrowhead": 0,
           "arrowwidth": 1
          },
          "autotypenumbers": "strict",
          "coloraxis": {
           "colorbar": {
            "outlinewidth": 0,
            "ticks": ""
           }
          },
          "colorscale": {
           "diverging": [
            [
             0,
             "#8e0152"
            ],
            [
             0.1,
             "#c51b7d"
            ],
            [
             0.2,
             "#de77ae"
            ],
            [
             0.3,
             "#f1b6da"
            ],
            [
             0.4,
             "#fde0ef"
            ],
            [
             0.5,
             "#f7f7f7"
            ],
            [
             0.6,
             "#e6f5d0"
            ],
            [
             0.7,
             "#b8e186"
            ],
            [
             0.8,
             "#7fbc41"
            ],
            [
             0.9,
             "#4d9221"
            ],
            [
             1,
             "#276419"
            ]
           ],
           "sequential": [
            [
             0,
             "#0d0887"
            ],
            [
             0.1111111111111111,
             "#46039f"
            ],
            [
             0.2222222222222222,
             "#7201a8"
            ],
            [
             0.3333333333333333,
             "#9c179e"
            ],
            [
             0.4444444444444444,
             "#bd3786"
            ],
            [
             0.5555555555555556,
             "#d8576b"
            ],
            [
             0.6666666666666666,
             "#ed7953"
            ],
            [
             0.7777777777777778,
             "#fb9f3a"
            ],
            [
             0.8888888888888888,
             "#fdca26"
            ],
            [
             1,
             "#f0f921"
            ]
           ],
           "sequentialminus": [
            [
             0,
             "#0d0887"
            ],
            [
             0.1111111111111111,
             "#46039f"
            ],
            [
             0.2222222222222222,
             "#7201a8"
            ],
            [
             0.3333333333333333,
             "#9c179e"
            ],
            [
             0.4444444444444444,
             "#bd3786"
            ],
            [
             0.5555555555555556,
             "#d8576b"
            ],
            [
             0.6666666666666666,
             "#ed7953"
            ],
            [
             0.7777777777777778,
             "#fb9f3a"
            ],
            [
             0.8888888888888888,
             "#fdca26"
            ],
            [
             1,
             "#f0f921"
            ]
           ]
          },
          "colorway": [
           "#636efa",
           "#EF553B",
           "#00cc96",
           "#ab63fa",
           "#FFA15A",
           "#19d3f3",
           "#FF6692",
           "#B6E880",
           "#FF97FF",
           "#FECB52"
          ],
          "font": {
           "color": "#2a3f5f"
          },
          "geo": {
           "bgcolor": "white",
           "lakecolor": "white",
           "landcolor": "white",
           "showlakes": true,
           "showland": true,
           "subunitcolor": "#C8D4E3"
          },
          "hoverlabel": {
           "align": "left"
          },
          "hovermode": "closest",
          "mapbox": {
           "style": "light"
          },
          "paper_bgcolor": "white",
          "plot_bgcolor": "white",
          "polar": {
           "angularaxis": {
            "gridcolor": "#EBF0F8",
            "linecolor": "#EBF0F8",
            "ticks": ""
           },
           "bgcolor": "white",
           "radialaxis": {
            "gridcolor": "#EBF0F8",
            "linecolor": "#EBF0F8",
            "ticks": ""
           }
          },
          "scene": {
           "xaxis": {
            "backgroundcolor": "white",
            "gridcolor": "#DFE8F3",
            "gridwidth": 2,
            "linecolor": "#EBF0F8",
            "showbackground": true,
            "ticks": "",
            "zerolinecolor": "#EBF0F8"
           },
           "yaxis": {
            "backgroundcolor": "white",
            "gridcolor": "#DFE8F3",
            "gridwidth": 2,
            "linecolor": "#EBF0F8",
            "showbackground": true,
            "ticks": "",
            "zerolinecolor": "#EBF0F8"
           },
           "zaxis": {
            "backgroundcolor": "white",
            "gridcolor": "#DFE8F3",
            "gridwidth": 2,
            "linecolor": "#EBF0F8",
            "showbackground": true,
            "ticks": "",
            "zerolinecolor": "#EBF0F8"
           }
          },
          "shapedefaults": {
           "line": {
            "color": "#2a3f5f"
           }
          },
          "ternary": {
           "aaxis": {
            "gridcolor": "#DFE8F3",
            "linecolor": "#A2B1C6",
            "ticks": ""
           },
           "baxis": {
            "gridcolor": "#DFE8F3",
            "linecolor": "#A2B1C6",
            "ticks": ""
           },
           "bgcolor": "white",
           "caxis": {
            "gridcolor": "#DFE8F3",
            "linecolor": "#A2B1C6",
            "ticks": ""
           }
          },
          "title": {
           "x": 0.05
          },
          "xaxis": {
           "automargin": true,
           "gridcolor": "#EBF0F8",
           "linecolor": "#EBF0F8",
           "ticks": "",
           "title": {
            "standoff": 15
           },
           "zerolinecolor": "#EBF0F8",
           "zerolinewidth": 2
          },
          "yaxis": {
           "automargin": true,
           "gridcolor": "#EBF0F8",
           "linecolor": "#EBF0F8",
           "ticks": "",
           "title": {
            "standoff": 15
           },
           "zerolinecolor": "#EBF0F8",
           "zerolinewidth": 2
          }
         }
        },
        "title": {
         "text": "Distribution des Rendements Quotidiens"
        },
        "xaxis": {
         "tickformat": ".2%",
         "title": {
          "text": "Rendement Quotidien"
         }
        },
        "yaxis": {
         "title": {
          "text": "Nombre de Jours"
         }
        }
       }
      }
     },
     "metadata": {},
     "output_type": "display_data"
    }
   ],
   "source": [
    "plot_return_distribution(df_recent, nbins=300, duration=1000, return_type='log')"
   ]
  },
  {
   "cell_type": "code",
   "execution_count": 2,
   "metadata": {},
   "outputs": [],
   "source": [
    "import yfinance as yf\n",
    "\n",
    "# Création de l'objet ticker pour ^TNX\n",
    "ticker = yf.Ticker(\"^TNX\")\n",
    "\n",
    "# Récupération des données sur 5 ans\n",
    "data = ticker.history(period=\"5y\")"
   ]
  },
  {
   "cell_type": "code",
   "execution_count": 4,
   "metadata": {},
   "outputs": [
    {
     "name": "stdout",
     "output_type": "stream",
     "text": [
      "Dates d'expiration disponibles : ('2025-02-28', '2025-03-07', '2025-03-14', '2025-03-21', '2025-03-28', '2025-04-04', '2025-04-17', '2025-05-16', '2025-06-20', '2025-07-18', '2025-08-15', '2025-09-19', '2025-10-17', '2025-12-19', '2026-01-16', '2026-03-20', '2026-06-18', '2026-12-18', '2027-01-15', '2027-06-17')\n",
      "Calls :          contractSymbol             lastTradeDate  strike  lastPrice     bid  \\\n",
      "0   AAPL250228C00110000 2025-01-21 19:20:02+00:00   110.0     111.67  133.80   \n",
      "1   AAPL250228C00140000 2025-02-20 14:59:32+00:00   140.0     105.09  103.80   \n",
      "2   AAPL250228C00145000 2025-02-11 15:05:42+00:00   145.0      86.52   98.85   \n",
      "3   AAPL250228C00150000 2025-02-18 15:36:57+00:00   150.0      94.39   94.75   \n",
      "4   AAPL250228C00165000 2025-02-21 18:26:50+00:00   165.0      82.75   79.70   \n",
      "5   AAPL250228C00170000 2025-02-20 19:37:20+00:00   170.0      75.30   74.75   \n",
      "6   AAPL250228C00175000 2025-02-21 18:21:14+00:00   175.0      72.50   70.35   \n",
      "7   AAPL250228C00180000 2025-02-21 19:00:48+00:00   180.0      67.99   64.80   \n",
      "8   AAPL250228C00185000 2025-02-21 20:57:07+00:00   185.0      60.77   59.70   \n",
      "9   AAPL250228C00190000 2025-02-20 20:25:48+00:00   190.0      57.43   55.05   \n",
      "10  AAPL250228C00195000 2025-02-21 19:55:22+00:00   195.0      51.39   49.70   \n",
      "11  AAPL250228C00200000 2025-02-21 20:57:42+00:00   200.0      45.70   45.50   \n",
      "12  AAPL250228C00205000 2025-02-21 19:40:54+00:00   205.0      41.30   40.20   \n",
      "13  AAPL250228C00207500 2025-02-20 16:52:59+00:00   207.5      38.10   37.55   \n",
      "14  AAPL250228C00210000 2025-02-21 20:31:50+00:00   210.0      36.04   35.35   \n",
      "15  AAPL250228C00212500 2025-02-20 17:16:39+00:00   212.5      33.98   32.30   \n",
      "16  AAPL250228C00215000 2025-02-21 20:21:45+00:00   215.0      31.23   30.45   \n",
      "17  AAPL250228C00217500 2025-02-21 19:40:28+00:00   217.5      29.00   27.75   \n",
      "18  AAPL250228C00220000 2025-02-21 20:56:28+00:00   220.0      25.87   25.70   \n",
      "19  AAPL250228C00222500 2025-02-21 20:05:14+00:00   222.5      23.55   23.20   \n",
      "20  AAPL250228C00225000 2025-02-21 20:26:23+00:00   225.0      21.16   20.75   \n",
      "21  AAPL250228C00227500 2025-02-21 20:02:23+00:00   227.5      18.84   18.20   \n",
      "22  AAPL250228C00230000 2025-02-21 20:57:56+00:00   230.0      16.15   15.85   \n",
      "23  AAPL250228C00232500 2025-02-21 20:59:14+00:00   232.5      13.90   13.50   \n",
      "24  AAPL250228C00235000 2025-02-21 20:57:37+00:00   235.0      11.29   11.25   \n",
      "25  AAPL250228C00237500 2025-02-21 20:58:48+00:00   237.5       9.15    9.05   \n",
      "26  AAPL250228C00240000 2025-02-21 20:59:47+00:00   240.0       7.05    6.95   \n",
      "27  AAPL250228C00242500 2025-02-21 20:58:28+00:00   242.5       5.20    5.00   \n",
      "28  AAPL250228C00245000 2025-02-21 20:59:33+00:00   245.0       3.45    3.40   \n",
      "29  AAPL250228C00247500 2025-02-21 20:59:47+00:00   247.5       2.12    2.11   \n",
      "30  AAPL250228C00250000 2025-02-21 20:59:47+00:00   250.0       1.20    1.18   \n",
      "31  AAPL250228C00252500 2025-02-21 20:59:47+00:00   252.5       0.60    0.61   \n",
      "32  AAPL250228C00255000 2025-02-21 20:59:47+00:00   255.0       0.32    0.30   \n",
      "33  AAPL250228C00257500 2025-02-21 20:59:23+00:00   257.5       0.16    0.16   \n",
      "34  AAPL250228C00260000 2025-02-21 20:59:28+00:00   260.0       0.10    0.09   \n",
      "35  AAPL250228C00265000 2025-02-21 20:58:36+00:00   265.0       0.04    0.04   \n",
      "36  AAPL250228C00270000 2025-02-21 20:57:31+00:00   270.0       0.03    0.02   \n",
      "37  AAPL250228C00275000 2025-02-21 20:59:01+00:00   275.0       0.02    0.00   \n",
      "38  AAPL250228C00280000 2025-02-21 20:50:31+00:00   280.0       0.01    0.01   \n",
      "39  AAPL250228C00285000 2025-02-21 20:31:36+00:00   285.0       0.01    0.00   \n",
      "40  AAPL250228C00290000 2025-02-19 17:45:38+00:00   290.0       0.02    0.00   \n",
      "41  AAPL250228C00295000 2025-02-18 15:12:24+00:00   295.0       0.01    0.00   \n",
      "42  AAPL250228C00300000 2025-02-19 14:32:45+00:00   300.0       0.01    0.00   \n",
      "43  AAPL250228C00305000 2025-02-14 20:11:07+00:00   305.0       0.01    0.00   \n",
      "44  AAPL250228C00310000 2025-02-18 14:35:34+00:00   310.0       0.02    0.00   \n",
      "45  AAPL250228C00315000 2025-02-13 17:10:27+00:00   315.0       0.01    0.00   \n",
      "46  AAPL250228C00320000 2025-02-04 15:44:17+00:00   320.0       0.01    0.00   \n",
      "47  AAPL250228C00325000 2025-02-07 20:20:17+00:00   325.0       0.01    0.00   \n",
      "48  AAPL250228C00330000 2025-02-21 19:43:07+00:00   330.0       0.01    0.00   \n",
      "\n",
      "       ask     change  percentChange   volume  openInterest  \\\n",
      "0   136.75   0.000000       0.000000      NaN             0   \n",
      "1   106.85   0.000000       0.000000      1.0            37   \n",
      "2   101.85   0.000000       0.000000      4.0             1   \n",
      "3    96.75   0.000000       0.000000      2.0            10   \n",
      "4    81.70  17.809998      27.425310      2.0             3   \n",
      "5    76.70   0.000000       0.000000      1.0            10   \n",
      "6    71.15   3.720001       5.408551    427.0           523   \n",
      "7    66.50   2.430000       3.706529     11.0           199   \n",
      "8    61.75   0.010002       0.016462      3.0           121   \n",
      "9    56.55   1.630001       2.921149      1.0           294   \n",
      "10   51.95   0.540001       1.061949      7.0           159   \n",
      "11   46.35  -0.049999      -0.109288    451.0           716   \n",
      "12   41.55   0.299999       0.731705   1109.0           186   \n",
      "13   39.00  -0.450001      -1.167317     30.0           142   \n",
      "14   36.55   0.209999       0.586098    668.0           222   \n",
      "15   34.40   0.000000       0.000000      9.0            47   \n",
      "16   31.45   0.430000       1.396105     72.0           538   \n",
      "17   29.40  -0.139999      -0.480437     28.0            66   \n",
      "18   26.30  -0.009998      -0.038633    528.0          1068   \n",
      "19   24.00   0.299999       1.290319    731.0           174   \n",
      "20   21.30   0.119999       0.570337    474.0          2167   \n",
      "21   19.05   0.340000       1.837839     78.0           530   \n",
      "22   16.40  -0.150000      -0.920243    909.0          2959   \n",
      "23   13.90  -0.100000      -0.714288    550.0           891   \n",
      "24   11.45  -0.260000      -2.251084   3432.0          4514   \n",
      "25    9.20  -0.130000      -1.400863    535.0          1310   \n",
      "26    7.05  -0.110000      -1.536308   3531.0          6149   \n",
      "27    5.15   0.050000       0.970868   1892.0          3004   \n",
      "28    3.50  -0.050000      -1.428570  16227.0         15697   \n",
      "29    2.14  -0.110000      -4.932742  26563.0          6278   \n",
      "30    1.21  -0.080000      -6.249994  62051.0         14524   \n",
      "31    0.63  -0.090000     -13.043475  18834.0         19690   \n",
      "32    0.33  -0.050000     -13.513515  20537.0         32951   \n",
      "33    0.18  -0.050000     -23.809523   8155.0          2569   \n",
      "34    0.11  -0.020000     -16.666664   8601.0         13834   \n",
      "35    0.05  -0.010000     -20.000004    533.0          3789   \n",
      "36    0.03  -0.010000     -25.000000    770.0          5040   \n",
      "37    0.02   0.010000     100.000000    207.0           710   \n",
      "38    0.02   0.000000       0.000000    455.0           776   \n",
      "39    0.01   0.000000       0.000000    408.0           162   \n",
      "40    0.01   0.000000       0.000000     31.0           979   \n",
      "41    0.01   0.000000       0.000000    242.0           400   \n",
      "42    0.01   0.000000       0.000000      5.0           500   \n",
      "43    0.01   0.000000       0.000000     43.0            82   \n",
      "44    0.01   0.000000       0.000000      3.0           134   \n",
      "45    0.01   0.000000       0.000000      1.0           111   \n",
      "46    0.01  -0.010000     -50.000000      1.0            22   \n",
      "47    0.01   0.000000       0.000000    308.0           318   \n",
      "48    0.01   0.000000       0.000000     48.0            75   \n",
      "\n",
      "    impliedVolatility  inTheMoney contractSize currency  \n",
      "0            3.581056        True      REGULAR      USD  \n",
      "1            2.660160        True      REGULAR      USD  \n",
      "2            2.517582        True      REGULAR      USD  \n",
      "3            1.736329        True      REGULAR      USD  \n",
      "4            1.376956        True      REGULAR      USD  \n",
      "5            1.312503        True      REGULAR      USD  \n",
      "6            1.244144        True      REGULAR      USD  \n",
      "7            1.046880        True      REGULAR      USD  \n",
      "8            1.042974        True      REGULAR      USD  \n",
      "9            1.009771        True      REGULAR      USD  \n",
      "10           0.935548        True      REGULAR      USD  \n",
      "11           0.895509        True      REGULAR      USD  \n",
      "12           0.784182        True      REGULAR      USD  \n",
      "13           0.693362        True      REGULAR      USD  \n",
      "14           0.724124        True      REGULAR      USD  \n",
      "15           0.642093        True      REGULAR      USD  \n",
      "16           0.633793        True      REGULAR      USD  \n",
      "17           0.625004        True      REGULAR      USD  \n",
      "18           0.558110        True      REGULAR      USD  \n",
      "19           0.537114        True      REGULAR      USD  \n",
      "20           0.530278        True      REGULAR      USD  \n",
      "21           0.521977        True      REGULAR      USD  \n",
      "22           0.445318        True      REGULAR      USD  \n",
      "23           0.392584        True      REGULAR      USD  \n",
      "24           0.345221        True      REGULAR      USD  \n",
      "25           0.318366        True      REGULAR      USD  \n",
      "26           0.291267        True      REGULAR      USD  \n",
      "27           0.273201        True      REGULAR      USD  \n",
      "28           0.256477        True      REGULAR      USD  \n",
      "29           0.239143       False      REGULAR      USD  \n",
      "30           0.229500       False      REGULAR      USD  \n",
      "31           0.224129       False      REGULAR      USD  \n",
      "32           0.226570       False      REGULAR      USD  \n",
      "33           0.233406       False      REGULAR      USD  \n",
      "34           0.246101       False      REGULAR      USD  \n",
      "35           0.275398       False      REGULAR      USD  \n",
      "36           0.312507       False      REGULAR      USD  \n",
      "37           0.347663       False      REGULAR      USD  \n",
      "38           0.394537       False      REGULAR      USD  \n",
      "39           0.414068       False      REGULAR      USD  \n",
      "40           0.453130       False      REGULAR      USD  \n",
      "41           0.500005       False      REGULAR      USD  \n",
      "42           0.500005       False      REGULAR      USD  \n",
      "43           0.546880       False      REGULAR      USD  \n",
      "44           0.578129       False      REGULAR      USD  \n",
      "45           0.625004       False      REGULAR      USD  \n",
      "46           0.656253       False      REGULAR      USD  \n",
      "47           0.687503       False      REGULAR      USD  \n",
      "48           0.718753       False      REGULAR      USD  \n",
      "Puts :          contractSymbol             lastTradeDate  strike  lastPrice    bid  \\\n",
      "0   AAPL250228P00100000 2025-02-03 14:30:11+00:00   100.0       0.03   0.00   \n",
      "1   AAPL250228P00110000 2025-02-20 14:30:01+00:00   110.0       0.01   0.00   \n",
      "2   AAPL250228P00120000 2025-02-20 14:30:01+00:00   120.0       0.02   0.00   \n",
      "3   AAPL250228P00130000 2025-02-21 20:15:20+00:00   130.0       0.01   0.00   \n",
      "4   AAPL250228P00140000 2025-02-13 20:18:11+00:00   140.0       0.01   0.00   \n",
      "5   AAPL250228P00145000 2025-02-21 19:24:41+00:00   145.0       0.01   0.00   \n",
      "6   AAPL250228P00150000 2025-02-21 20:33:42+00:00   150.0       0.01   0.00   \n",
      "7   AAPL250228P00155000 2025-02-20 17:12:33+00:00   155.0       0.01   0.00   \n",
      "8   AAPL250228P00160000 2025-02-19 15:06:40+00:00   160.0       0.01   0.00   \n",
      "9   AAPL250228P00165000 2025-02-21 20:13:58+00:00   165.0       0.04   0.00   \n",
      "10  AAPL250228P00170000 2025-02-21 20:43:20+00:00   170.0       0.01   0.00   \n",
      "11  AAPL250228P00175000 2025-02-21 20:22:08+00:00   175.0       0.01   0.00   \n",
      "12  AAPL250228P00180000 2025-02-21 19:47:44+00:00   180.0       0.02   0.00   \n",
      "13  AAPL250228P00185000 2025-02-21 19:38:54+00:00   185.0       0.01   0.01   \n",
      "14  AAPL250228P00190000 2025-02-21 20:21:24+00:00   190.0       0.01   0.01   \n",
      "15  AAPL250228P00195000 2025-02-21 20:30:42+00:00   195.0       0.03   0.02   \n",
      "16  AAPL250228P00200000 2025-02-21 20:48:47+00:00   200.0       0.05   0.03   \n",
      "17  AAPL250228P00205000 2025-02-21 20:58:31+00:00   205.0       0.07   0.05   \n",
      "18  AAPL250228P00207500 2025-02-21 20:13:47+00:00   207.5       0.06   0.06   \n",
      "19  AAPL250228P00210000 2025-02-21 20:49:42+00:00   210.0       0.08   0.07   \n",
      "20  AAPL250228P00212500 2025-02-21 19:50:15+00:00   212.5       0.07   0.08   \n",
      "21  AAPL250228P00215000 2025-02-21 20:51:31+00:00   215.0       0.10   0.09   \n",
      "22  AAPL250228P00217500 2025-02-21 20:57:56+00:00   217.5       0.12   0.10   \n",
      "23  AAPL250228P00220000 2025-02-21 20:59:37+00:00   220.0       0.14   0.12   \n",
      "24  AAPL250228P00222500 2025-02-21 20:50:20+00:00   222.5       0.14   0.14   \n",
      "25  AAPL250228P00225000 2025-02-21 20:54:16+00:00   225.0       0.18   0.17   \n",
      "26  AAPL250228P00227500 2025-02-21 20:59:47+00:00   227.5       0.23   0.21   \n",
      "27  AAPL250228P00230000 2025-02-21 20:59:48+00:00   230.0       0.30   0.28   \n",
      "28  AAPL250228P00232500 2025-02-21 20:59:57+00:00   232.5       0.39   0.38   \n",
      "29  AAPL250228P00235000 2025-02-21 20:59:59+00:00   235.0       0.54   0.54   \n",
      "30  AAPL250228P00237500 2025-02-21 20:59:58+00:00   237.5       0.81   0.79   \n",
      "31  AAPL250228P00240000 2025-02-21 20:59:57+00:00   240.0       1.18   1.17   \n",
      "32  AAPL250228P00242500 2025-02-21 20:59:52+00:00   242.5       1.78   1.74   \n",
      "33  AAPL250228P00245000 2025-02-21 20:59:58+00:00   245.0       2.63   2.57   \n",
      "34  AAPL250228P00247500 2025-02-21 20:59:40+00:00   247.5       3.85   3.75   \n",
      "35  AAPL250228P00250000 2025-02-21 20:59:21+00:00   250.0       5.45   5.30   \n",
      "36  AAPL250228P00252500 2025-02-21 20:55:00+00:00   252.5       7.30   7.05   \n",
      "37  AAPL250228P00255000 2025-02-21 20:52:50+00:00   255.0       9.50   9.25   \n",
      "38  AAPL250228P00257500 2025-02-21 19:45:02+00:00   257.5      12.00  11.40   \n",
      "39  AAPL250228P00260000 2025-02-21 20:51:30+00:00   260.0      14.25  14.15   \n",
      "40  AAPL250228P00265000 2025-02-21 20:13:21+00:00   265.0      19.40  18.95   \n",
      "41  AAPL250228P00270000 2025-02-21 18:35:03+00:00   270.0      22.40  24.05   \n",
      "42  AAPL250228P00275000 2025-02-21 19:27:58+00:00   275.0      28.30  28.70   \n",
      "43  AAPL250228P00300000 2025-01-31 16:42:55+00:00   300.0      60.75  53.60   \n",
      "\n",
      "      ask    change  percentChange  volume  openInterest  impliedVolatility  \\\n",
      "0    0.01  0.000000       0.000000       1            31           2.125005   \n",
      "1    0.01  0.000000       0.000000       1            41           1.875001   \n",
      "2    0.01  0.000000       0.000000       1            24           1.687502   \n",
      "3    0.01  0.000000       0.000000       1            58           1.500002   \n",
      "4    0.01  0.000000       0.000000       8           113           1.343753   \n",
      "5    0.01  0.000000       0.000000     150           131           1.250004   \n",
      "6    0.01 -0.010000     -50.000000   12668           296           1.187504   \n",
      "7    0.10  0.000000       0.000000       1           148           1.378909   \n",
      "8    0.13  0.000000       0.000000    3255           605           1.328128   \n",
      "9    0.13  0.020000     100.000000      10           801           1.242191   \n",
      "10   0.03  0.000000       0.000000    1162           247           0.992188   \n",
      "11   0.04 -0.010000     -50.000000     273           168           0.945313   \n",
      "12   0.07  0.010000     100.000000     274           754           0.925782   \n",
      "13   0.07 -0.010000     -50.000000     282          1460           0.863283   \n",
      "14   0.05 -0.010000     -50.000000       4           993           0.765627   \n",
      "15   0.04  0.000000       0.000000     488          1260           0.695316   \n",
      "16   0.07  0.010000      25.000006    4770          1914           0.664066   \n",
      "17   0.07  0.030000      75.000010     821          1026           0.605473   \n",
      "18   0.08  0.020000      50.000000     145           349           0.582035   \n",
      "19   0.08  0.030000      59.999996    1751          2453           0.550786   \n",
      "20   0.10  0.020000      39.999996    2640           495           0.527348   \n",
      "21   0.10  0.030000      42.857143    2807          1906           0.498052   \n",
      "22   0.12  0.050000      71.428566     586          1648           0.473638   \n",
      "23   0.14  0.060000      75.000010    1318          3168           0.446295   \n",
      "24   0.16  0.060000      75.000010     921           580           0.416998   \n",
      "25   0.18  0.080000      80.000010    1237          3171           0.385748   \n",
      "26   0.23  0.090000      64.285720    2754          1273           0.362311   \n",
      "27   0.30  0.130000      76.470600    9604          6312           0.339362   \n",
      "28   0.40  0.140000      55.999992    3048          2398           0.316413   \n",
      "29   0.56  0.170000      45.945950   12941          4751           0.296394   \n",
      "30   0.82  0.220000      37.288140    5224          3310           0.279304   \n",
      "31   1.20  0.220000      22.916664   23297          5693           0.261604   \n",
      "32   1.80  0.240000      15.584416   10186          3296           0.247444   \n",
      "33   2.65  0.230000       9.583334   32187          8698           0.232552   \n",
      "34   3.90  0.250000       6.944445   16211          1244           0.223519   \n",
      "35   5.50  0.250000       4.807692    4649          2314           0.214119   \n",
      "36   7.55  0.250000       3.546099     626           266           0.220467   \n",
      "37   9.90 -0.050000      -0.523562    1154           111           0.246834   \n",
      "38  12.30 -0.100000      -0.826449      70           135           0.272468   \n",
      "39  14.65 -0.300000      -2.061857    1746            24           0.275886   \n",
      "40  19.75 -0.809999      -4.007914     103            24           0.376471   \n",
      "41  25.15 -2.950001     -11.637083      61             0           0.540776   \n",
      "42  30.00 -1.300001      -4.391896      60            10           0.583256   \n",
      "43  55.15  0.000000       0.000000       2             0           0.952637   \n",
      "\n",
      "    inTheMoney contractSize currency  \n",
      "0        False      REGULAR      USD  \n",
      "1        False      REGULAR      USD  \n",
      "2        False      REGULAR      USD  \n",
      "3        False      REGULAR      USD  \n",
      "4        False      REGULAR      USD  \n",
      "5        False      REGULAR      USD  \n",
      "6        False      REGULAR      USD  \n",
      "7        False      REGULAR      USD  \n",
      "8        False      REGULAR      USD  \n",
      "9        False      REGULAR      USD  \n",
      "10       False      REGULAR      USD  \n",
      "11       False      REGULAR      USD  \n",
      "12       False      REGULAR      USD  \n",
      "13       False      REGULAR      USD  \n",
      "14       False      REGULAR      USD  \n",
      "15       False      REGULAR      USD  \n",
      "16       False      REGULAR      USD  \n",
      "17       False      REGULAR      USD  \n",
      "18       False      REGULAR      USD  \n",
      "19       False      REGULAR      USD  \n",
      "20       False      REGULAR      USD  \n",
      "21       False      REGULAR      USD  \n",
      "22       False      REGULAR      USD  \n",
      "23       False      REGULAR      USD  \n",
      "24       False      REGULAR      USD  \n",
      "25       False      REGULAR      USD  \n",
      "26       False      REGULAR      USD  \n",
      "27       False      REGULAR      USD  \n",
      "28       False      REGULAR      USD  \n",
      "29       False      REGULAR      USD  \n",
      "30       False      REGULAR      USD  \n",
      "31       False      REGULAR      USD  \n",
      "32       False      REGULAR      USD  \n",
      "33       False      REGULAR      USD  \n",
      "34        True      REGULAR      USD  \n",
      "35        True      REGULAR      USD  \n",
      "36        True      REGULAR      USD  \n",
      "37        True      REGULAR      USD  \n",
      "38        True      REGULAR      USD  \n",
      "39        True      REGULAR      USD  \n",
      "40        True      REGULAR      USD  \n",
      "41        True      REGULAR      USD  \n",
      "42        True      REGULAR      USD  \n",
      "43        True      REGULAR      USD  \n"
     ]
    }
   ],
   "source": [
    "import yfinance as yf\n",
    "\n",
    "# Création de l'objet ticker pour Apple\n",
    "ticker = yf.Ticker(\"AAPL\")\n",
    "\n",
    "# Récupération des dates d'expiration disponibles\n",
    "options_dates = ticker.options\n",
    "print(\"Dates d'expiration disponibles :\", options_dates)\n",
    "\n",
    "# Récupération de la chaîne d'options pour la première date d'expiration\n",
    "if options_dates:\n",
    "    option_chain = ticker.option_chain(options_dates[0])\n",
    "    print(\"Calls :\", option_chain.calls)\n",
    "    print(\"Puts :\", option_chain.puts)\n"
   ]
  },
  {
   "cell_type": "code",
   "execution_count": 3,
   "metadata": {},
   "outputs": [
    {
     "data": {
      "text/html": [
       "<div>\n",
       "<style scoped>\n",
       "    .dataframe tbody tr th:only-of-type {\n",
       "        vertical-align: middle;\n",
       "    }\n",
       "\n",
       "    .dataframe tbody tr th {\n",
       "        vertical-align: top;\n",
       "    }\n",
       "\n",
       "    .dataframe thead th {\n",
       "        text-align: right;\n",
       "    }\n",
       "</style>\n",
       "<table border=\"1\" class=\"dataframe\">\n",
       "  <thead>\n",
       "    <tr style=\"text-align: right;\">\n",
       "      <th></th>\n",
       "      <th>Open</th>\n",
       "      <th>High</th>\n",
       "      <th>Low</th>\n",
       "      <th>Close</th>\n",
       "      <th>Volume</th>\n",
       "      <th>Dividends</th>\n",
       "      <th>Stock Splits</th>\n",
       "    </tr>\n",
       "    <tr>\n",
       "      <th>Date</th>\n",
       "      <th></th>\n",
       "      <th></th>\n",
       "      <th></th>\n",
       "      <th></th>\n",
       "      <th></th>\n",
       "      <th></th>\n",
       "      <th></th>\n",
       "    </tr>\n",
       "  </thead>\n",
       "  <tbody>\n",
       "    <tr>\n",
       "      <th>2020-02-21 00:00:00-06:00</th>\n",
       "      <td>1.485</td>\n",
       "      <td>1.492</td>\n",
       "      <td>1.439</td>\n",
       "      <td>1.471</td>\n",
       "      <td>0</td>\n",
       "      <td>0.0</td>\n",
       "      <td>0.0</td>\n",
       "    </tr>\n",
       "    <tr>\n",
       "      <th>2020-02-24 00:00:00-06:00</th>\n",
       "      <td>1.396</td>\n",
       "      <td>1.402</td>\n",
       "      <td>1.352</td>\n",
       "      <td>1.377</td>\n",
       "      <td>0</td>\n",
       "      <td>0.0</td>\n",
       "      <td>0.0</td>\n",
       "    </tr>\n",
       "    <tr>\n",
       "      <th>2020-02-25 00:00:00-06:00</th>\n",
       "      <td>1.374</td>\n",
       "      <td>1.377</td>\n",
       "      <td>1.307</td>\n",
       "      <td>1.330</td>\n",
       "      <td>0</td>\n",
       "      <td>0.0</td>\n",
       "      <td>0.0</td>\n",
       "    </tr>\n",
       "    <tr>\n",
       "      <th>2020-02-26 00:00:00-06:00</th>\n",
       "      <td>1.369</td>\n",
       "      <td>1.381</td>\n",
       "      <td>1.302</td>\n",
       "      <td>1.310</td>\n",
       "      <td>0</td>\n",
       "      <td>0.0</td>\n",
       "      <td>0.0</td>\n",
       "    </tr>\n",
       "    <tr>\n",
       "      <th>2020-02-27 00:00:00-06:00</th>\n",
       "      <td>1.272</td>\n",
       "      <td>1.327</td>\n",
       "      <td>1.243</td>\n",
       "      <td>1.299</td>\n",
       "      <td>0</td>\n",
       "      <td>0.0</td>\n",
       "      <td>0.0</td>\n",
       "    </tr>\n",
       "    <tr>\n",
       "      <th>...</th>\n",
       "      <td>...</td>\n",
       "      <td>...</td>\n",
       "      <td>...</td>\n",
       "      <td>...</td>\n",
       "      <td>...</td>\n",
       "      <td>...</td>\n",
       "      <td>...</td>\n",
       "    </tr>\n",
       "    <tr>\n",
       "      <th>2025-02-14 00:00:00-06:00</th>\n",
       "      <td>4.531</td>\n",
       "      <td>4.533</td>\n",
       "      <td>4.447</td>\n",
       "      <td>4.472</td>\n",
       "      <td>0</td>\n",
       "      <td>0.0</td>\n",
       "      <td>0.0</td>\n",
       "    </tr>\n",
       "    <tr>\n",
       "      <th>2025-02-18 00:00:00-06:00</th>\n",
       "      <td>4.519</td>\n",
       "      <td>4.546</td>\n",
       "      <td>4.507</td>\n",
       "      <td>4.544</td>\n",
       "      <td>0</td>\n",
       "      <td>0.0</td>\n",
       "      <td>0.0</td>\n",
       "    </tr>\n",
       "    <tr>\n",
       "      <th>2025-02-19 00:00:00-06:00</th>\n",
       "      <td>4.566</td>\n",
       "      <td>4.576</td>\n",
       "      <td>4.529</td>\n",
       "      <td>4.535</td>\n",
       "      <td>0</td>\n",
       "      <td>0.0</td>\n",
       "      <td>0.0</td>\n",
       "    </tr>\n",
       "    <tr>\n",
       "      <th>2025-02-20 00:00:00-06:00</th>\n",
       "      <td>4.507</td>\n",
       "      <td>4.525</td>\n",
       "      <td>4.492</td>\n",
       "      <td>4.500</td>\n",
       "      <td>0</td>\n",
       "      <td>0.0</td>\n",
       "      <td>0.0</td>\n",
       "    </tr>\n",
       "    <tr>\n",
       "      <th>2025-02-21 00:00:00-06:00</th>\n",
       "      <td>4.484</td>\n",
       "      <td>4.501</td>\n",
       "      <td>4.406</td>\n",
       "      <td>4.420</td>\n",
       "      <td>0</td>\n",
       "      <td>0.0</td>\n",
       "      <td>0.0</td>\n",
       "    </tr>\n",
       "  </tbody>\n",
       "</table>\n",
       "<p>1258 rows × 7 columns</p>\n",
       "</div>"
      ],
      "text/plain": [
       "                            Open   High    Low  Close  Volume  Dividends  \\\n",
       "Date                                                                       \n",
       "2020-02-21 00:00:00-06:00  1.485  1.492  1.439  1.471       0        0.0   \n",
       "2020-02-24 00:00:00-06:00  1.396  1.402  1.352  1.377       0        0.0   \n",
       "2020-02-25 00:00:00-06:00  1.374  1.377  1.307  1.330       0        0.0   \n",
       "2020-02-26 00:00:00-06:00  1.369  1.381  1.302  1.310       0        0.0   \n",
       "2020-02-27 00:00:00-06:00  1.272  1.327  1.243  1.299       0        0.0   \n",
       "...                          ...    ...    ...    ...     ...        ...   \n",
       "2025-02-14 00:00:00-06:00  4.531  4.533  4.447  4.472       0        0.0   \n",
       "2025-02-18 00:00:00-06:00  4.519  4.546  4.507  4.544       0        0.0   \n",
       "2025-02-19 00:00:00-06:00  4.566  4.576  4.529  4.535       0        0.0   \n",
       "2025-02-20 00:00:00-06:00  4.507  4.525  4.492  4.500       0        0.0   \n",
       "2025-02-21 00:00:00-06:00  4.484  4.501  4.406  4.420       0        0.0   \n",
       "\n",
       "                           Stock Splits  \n",
       "Date                                     \n",
       "2020-02-21 00:00:00-06:00           0.0  \n",
       "2020-02-24 00:00:00-06:00           0.0  \n",
       "2020-02-25 00:00:00-06:00           0.0  \n",
       "2020-02-26 00:00:00-06:00           0.0  \n",
       "2020-02-27 00:00:00-06:00           0.0  \n",
       "...                                 ...  \n",
       "2025-02-14 00:00:00-06:00           0.0  \n",
       "2025-02-18 00:00:00-06:00           0.0  \n",
       "2025-02-19 00:00:00-06:00           0.0  \n",
       "2025-02-20 00:00:00-06:00           0.0  \n",
       "2025-02-21 00:00:00-06:00           0.0  \n",
       "\n",
       "[1258 rows x 7 columns]"
      ]
     },
     "execution_count": 3,
     "metadata": {},
     "output_type": "execute_result"
    }
   ],
   "source": [
    "data"
   ]
  },
  {
   "cell_type": "code",
   "execution_count": 5,
   "metadata": {},
   "outputs": [
    {
     "name": "stdout",
     "output_type": "stream",
     "text": [
      "['/Users/loubrunet/miniconda3/envs/var_project/lib/python312.zip', '/Users/loubrunet/miniconda3/envs/var_project/lib/python3.12', '/Users/loubrunet/miniconda3/envs/var_project/lib/python3.12/lib-dynload', '', '/Users/loubrunet/.local/lib/python3.12/site-packages', '/Users/loubrunet/miniconda3/envs/var_project/lib/python3.12/site-packages']\n"
     ]
    }
   ],
   "source": [
    "import sys\n",
    "print(sys.path)"
   ]
  },
  {
   "cell_type": "code",
   "execution_count": 6,
   "metadata": {},
   "outputs": [],
   "source": [
    "import streamlit"
   ]
  },
  {
   "cell_type": "code",
   "execution_count": 7,
   "metadata": {},
   "outputs": [],
   "source": [
    "def get_fundamental_info(ticker_symbol):\n",
    "    \"\"\"\n",
    "    Récupère les informations fondamentales d'une entreprise à partir de son ticker.\n",
    "\n",
    "    Args:\n",
    "        ticker_symbol (str): Le symbole boursier de l'entreprise (ex: \"AAPL\" pour Apple).\n",
    "\n",
    "    Returns:\n",
    "        dict: Un dictionnaire contenant le nom de l'entreprise, le secteur, l'industrie,\n",
    "              la capitalisation boursière et un résumé de l'activité.\n",
    "    \"\"\"\n",
    "    ticker = yf.Ticker(ticker_symbol)\n",
    "    info = ticker.info\n",
    "    \n",
    "    return {\n",
    "        \"Nom de l'entreprise\": info.get(\"longName\"),\n",
    "        \"Secteur\": info.get(\"sector\"),\n",
    "        \"Industrie\": info.get(\"industry\"),\n",
    "        \"Capitalisation boursière\": info.get(\"marketCap\"),\n",
    "        \"Résumé de l'activité\": info.get(\"longBusinessSummary\")\n",
    "    }"
   ]
  },
  {
   "cell_type": "code",
   "execution_count": 1,
   "metadata": {},
   "outputs": [
    {
     "ename": "NameError",
     "evalue": "name 'get_fundamental_info' is not defined",
     "output_type": "error",
     "traceback": [
      "\u001b[0;31m---------------------------------------------------------------------------\u001b[0m",
      "\u001b[0;31mNameError\u001b[0m                                 Traceback (most recent call last)",
      "Cell \u001b[0;32mIn[1], line 1\u001b[0m\n\u001b[0;32m----> 1\u001b[0m \u001b[43mget_fundamental_info\u001b[49m(\u001b[38;5;124m'\u001b[39m\u001b[38;5;124mTHLLY\u001b[39m\u001b[38;5;124m'\u001b[39m)\n",
      "\u001b[0;31mNameError\u001b[0m: name 'get_fundamental_info' is not defined"
     ]
    }
   ],
   "source": [
    "get_fundamental_info('THLLY')"
   ]
  },
  {
   "cell_type": "code",
   "execution_count": 2,
   "metadata": {},
   "outputs": [],
   "source": [
    "from data.data_loader import tickerf"
   ]
  },
  {
   "cell_type": "code",
   "execution_count": 3,
   "metadata": {},
   "outputs": [],
   "source": [
    "df = tickerf('TSLA')"
   ]
  },
  {
   "cell_type": "code",
   "execution_count": 5,
   "metadata": {},
   "outputs": [
    {
     "data": {
      "text/html": [
       "<div>\n",
       "<style scoped>\n",
       "    .dataframe tbody tr th:only-of-type {\n",
       "        vertical-align: middle;\n",
       "    }\n",
       "\n",
       "    .dataframe tbody tr th {\n",
       "        vertical-align: top;\n",
       "    }\n",
       "\n",
       "    .dataframe thead th {\n",
       "        text-align: right;\n",
       "    }\n",
       "</style>\n",
       "<table border=\"1\" class=\"dataframe\">\n",
       "  <thead>\n",
       "    <tr style=\"text-align: right;\">\n",
       "      <th></th>\n",
       "      <th>Date</th>\n",
       "      <th>Open</th>\n",
       "      <th>High</th>\n",
       "      <th>Low</th>\n",
       "      <th>Close</th>\n",
       "      <th>Volume</th>\n",
       "      <th>Dividends</th>\n",
       "      <th>Stock Splits</th>\n",
       "    </tr>\n",
       "  </thead>\n",
       "  <tbody>\n",
       "    <tr>\n",
       "      <th>0</th>\n",
       "      <td>2020-02-24 00:00:00-05:00</td>\n",
       "      <td>55.933334</td>\n",
       "      <td>57.566666</td>\n",
       "      <td>54.813332</td>\n",
       "      <td>55.585999</td>\n",
       "      <td>227883000</td>\n",
       "      <td>0.0</td>\n",
       "      <td>0.0</td>\n",
       "    </tr>\n",
       "    <tr>\n",
       "      <th>1</th>\n",
       "      <td>2020-02-25 00:00:00-05:00</td>\n",
       "      <td>56.599998</td>\n",
       "      <td>57.106667</td>\n",
       "      <td>52.466667</td>\n",
       "      <td>53.327332</td>\n",
       "      <td>259357500</td>\n",
       "      <td>0.0</td>\n",
       "      <td>0.0</td>\n",
       "    </tr>\n",
       "    <tr>\n",
       "      <th>2</th>\n",
       "      <td>2020-02-26 00:00:00-05:00</td>\n",
       "      <td>52.166668</td>\n",
       "      <td>54.220669</td>\n",
       "      <td>51.740665</td>\n",
       "      <td>51.919998</td>\n",
       "      <td>211282500</td>\n",
       "      <td>0.0</td>\n",
       "      <td>0.0</td>\n",
       "    </tr>\n",
       "    <tr>\n",
       "      <th>3</th>\n",
       "      <td>2020-02-27 00:00:00-05:00</td>\n",
       "      <td>48.666668</td>\n",
       "      <td>49.318001</td>\n",
       "      <td>44.599998</td>\n",
       "      <td>45.266666</td>\n",
       "      <td>364158000</td>\n",
       "      <td>0.0</td>\n",
       "      <td>0.0</td>\n",
       "    </tr>\n",
       "    <tr>\n",
       "      <th>4</th>\n",
       "      <td>2020-02-28 00:00:00-05:00</td>\n",
       "      <td>41.980000</td>\n",
       "      <td>46.034668</td>\n",
       "      <td>40.768002</td>\n",
       "      <td>44.532665</td>\n",
       "      <td>363343500</td>\n",
       "      <td>0.0</td>\n",
       "      <td>0.0</td>\n",
       "    </tr>\n",
       "    <tr>\n",
       "      <th>...</th>\n",
       "      <td>...</td>\n",
       "      <td>...</td>\n",
       "      <td>...</td>\n",
       "      <td>...</td>\n",
       "      <td>...</td>\n",
       "      <td>...</td>\n",
       "      <td>...</td>\n",
       "      <td>...</td>\n",
       "    </tr>\n",
       "    <tr>\n",
       "      <th>1252</th>\n",
       "      <td>2025-02-14 00:00:00-05:00</td>\n",
       "      <td>360.619995</td>\n",
       "      <td>362.000000</td>\n",
       "      <td>347.500000</td>\n",
       "      <td>355.839996</td>\n",
       "      <td>68277300</td>\n",
       "      <td>0.0</td>\n",
       "      <td>0.0</td>\n",
       "    </tr>\n",
       "    <tr>\n",
       "      <th>1253</th>\n",
       "      <td>2025-02-18 00:00:00-05:00</td>\n",
       "      <td>355.010010</td>\n",
       "      <td>359.100006</td>\n",
       "      <td>350.019989</td>\n",
       "      <td>354.109985</td>\n",
       "      <td>51631700</td>\n",
       "      <td>0.0</td>\n",
       "      <td>0.0</td>\n",
       "    </tr>\n",
       "    <tr>\n",
       "      <th>1254</th>\n",
       "      <td>2025-02-19 00:00:00-05:00</td>\n",
       "      <td>354.000000</td>\n",
       "      <td>367.339996</td>\n",
       "      <td>353.670013</td>\n",
       "      <td>360.559998</td>\n",
       "      <td>67094400</td>\n",
       "      <td>0.0</td>\n",
       "      <td>0.0</td>\n",
       "    </tr>\n",
       "    <tr>\n",
       "      <th>1255</th>\n",
       "      <td>2025-02-20 00:00:00-05:00</td>\n",
       "      <td>361.510010</td>\n",
       "      <td>362.299988</td>\n",
       "      <td>348.000000</td>\n",
       "      <td>354.399994</td>\n",
       "      <td>45965400</td>\n",
       "      <td>0.0</td>\n",
       "      <td>0.0</td>\n",
       "    </tr>\n",
       "    <tr>\n",
       "      <th>1256</th>\n",
       "      <td>2025-02-21 00:00:00-05:00</td>\n",
       "      <td>353.440002</td>\n",
       "      <td>354.980011</td>\n",
       "      <td>334.420013</td>\n",
       "      <td>337.799988</td>\n",
       "      <td>73787800</td>\n",
       "      <td>0.0</td>\n",
       "      <td>0.0</td>\n",
       "    </tr>\n",
       "  </tbody>\n",
       "</table>\n",
       "<p>1257 rows × 8 columns</p>\n",
       "</div>"
      ],
      "text/plain": [
       "                          Date        Open  ...  Dividends  Stock Splits\n",
       "0    2020-02-24 00:00:00-05:00   55.933334  ...        0.0           0.0\n",
       "1    2020-02-25 00:00:00-05:00   56.599998  ...        0.0           0.0\n",
       "2    2020-02-26 00:00:00-05:00   52.166668  ...        0.0           0.0\n",
       "3    2020-02-27 00:00:00-05:00   48.666668  ...        0.0           0.0\n",
       "4    2020-02-28 00:00:00-05:00   41.980000  ...        0.0           0.0\n",
       "...                        ...         ...  ...        ...           ...\n",
       "1252 2025-02-14 00:00:00-05:00  360.619995  ...        0.0           0.0\n",
       "1253 2025-02-18 00:00:00-05:00  355.010010  ...        0.0           0.0\n",
       "1254 2025-02-19 00:00:00-05:00  354.000000  ...        0.0           0.0\n",
       "1255 2025-02-20 00:00:00-05:00  361.510010  ...        0.0           0.0\n",
       "1256 2025-02-21 00:00:00-05:00  353.440002  ...        0.0           0.0\n",
       "\n",
       "[1257 rows x 8 columns]"
      ]
     },
     "execution_count": 5,
     "metadata": {},
     "output_type": "execute_result"
    }
   ],
   "source": [
    "df.reset_index()"
   ]
  },
  {
   "cell_type": "code",
   "execution_count": 12,
   "metadata": {},
   "outputs": [],
   "source": [
    "import pandas as pd\n",
    "import numpy as np\n",
    "\n",
    "def compute_returns(df):\n",
    "    \"\"\"\n",
    "    Calcule les retours quotidiens simples et logarithmiques à partir de la colonne 'Close'\n",
    "    du DataFrame. Le DataFrame est supposé contenir une colonne 'Date' (de type datetime ou string)\n",
    "    et une colonne 'Close'.\n",
    "    \n",
    "    Paramètres:\n",
    "        df (pd.DataFrame): DataFrame contenant au minimum les colonnes 'Date' et 'Close'.\n",
    "        \n",
    "    Retour:\n",
    "        pd.DataFrame: DataFrame d'origine avec deux nouvelles colonnes:\n",
    "                      - 'Simple Return' : Retour simple calculé comme (Close_i / Close_{i-1}) - 1\n",
    "                      - 'Log Return'    : Retour logarithmique calculé comme ln(Close_i / Close_{i-1})\n",
    "    \"\"\"\n",
    "    # On s'assure que le DataFrame est trié par date\n",
    "    df = df.sort_values('Date').reset_index(drop=True)\n",
    "    \n",
    "    # Calcul du retour simple\n",
    "    df['simple_return'] = df['Close'].pct_change()\n",
    "    \n",
    "    # Calcul du retour logarithmique\n",
    "    df['log_return'] = np.log(df['Close'] / df['Close'].shift(1))\n",
    "    \n",
    "    return df.iloc[1:]\n"
   ]
  },
  {
   "cell_type": "code",
   "execution_count": 13,
   "metadata": {},
   "outputs": [
    {
     "data": {
      "text/html": [
       "<div>\n",
       "<style scoped>\n",
       "    .dataframe tbody tr th:only-of-type {\n",
       "        vertical-align: middle;\n",
       "    }\n",
       "\n",
       "    .dataframe tbody tr th {\n",
       "        vertical-align: top;\n",
       "    }\n",
       "\n",
       "    .dataframe thead th {\n",
       "        text-align: right;\n",
       "    }\n",
       "</style>\n",
       "<table border=\"1\" class=\"dataframe\">\n",
       "  <thead>\n",
       "    <tr style=\"text-align: right;\">\n",
       "      <th></th>\n",
       "      <th>Date</th>\n",
       "      <th>Open</th>\n",
       "      <th>High</th>\n",
       "      <th>Low</th>\n",
       "      <th>Close</th>\n",
       "      <th>Volume</th>\n",
       "      <th>Dividends</th>\n",
       "      <th>Stock Splits</th>\n",
       "      <th>simple_return</th>\n",
       "      <th>log_return</th>\n",
       "    </tr>\n",
       "  </thead>\n",
       "  <tbody>\n",
       "    <tr>\n",
       "      <th>1</th>\n",
       "      <td>2020-02-25 00:00:00-05:00</td>\n",
       "      <td>56.599998</td>\n",
       "      <td>57.106667</td>\n",
       "      <td>52.466667</td>\n",
       "      <td>53.327332</td>\n",
       "      <td>259357500</td>\n",
       "      <td>0.0</td>\n",
       "      <td>0.0</td>\n",
       "      <td>-0.040634</td>\n",
       "      <td>-0.041482</td>\n",
       "    </tr>\n",
       "    <tr>\n",
       "      <th>2</th>\n",
       "      <td>2020-02-26 00:00:00-05:00</td>\n",
       "      <td>52.166668</td>\n",
       "      <td>54.220669</td>\n",
       "      <td>51.740665</td>\n",
       "      <td>51.919998</td>\n",
       "      <td>211282500</td>\n",
       "      <td>0.0</td>\n",
       "      <td>0.0</td>\n",
       "      <td>-0.026390</td>\n",
       "      <td>-0.026745</td>\n",
       "    </tr>\n",
       "    <tr>\n",
       "      <th>3</th>\n",
       "      <td>2020-02-27 00:00:00-05:00</td>\n",
       "      <td>48.666668</td>\n",
       "      <td>49.318001</td>\n",
       "      <td>44.599998</td>\n",
       "      <td>45.266666</td>\n",
       "      <td>364158000</td>\n",
       "      <td>0.0</td>\n",
       "      <td>0.0</td>\n",
       "      <td>-0.128146</td>\n",
       "      <td>-0.137133</td>\n",
       "    </tr>\n",
       "    <tr>\n",
       "      <th>4</th>\n",
       "      <td>2020-02-28 00:00:00-05:00</td>\n",
       "      <td>41.980000</td>\n",
       "      <td>46.034668</td>\n",
       "      <td>40.768002</td>\n",
       "      <td>44.532665</td>\n",
       "      <td>363343500</td>\n",
       "      <td>0.0</td>\n",
       "      <td>0.0</td>\n",
       "      <td>-0.016215</td>\n",
       "      <td>-0.016348</td>\n",
       "    </tr>\n",
       "    <tr>\n",
       "      <th>5</th>\n",
       "      <td>2020-03-02 00:00:00-05:00</td>\n",
       "      <td>47.417332</td>\n",
       "      <td>49.579334</td>\n",
       "      <td>45.778000</td>\n",
       "      <td>49.574669</td>\n",
       "      <td>302925000</td>\n",
       "      <td>0.0</td>\n",
       "      <td>0.0</td>\n",
       "      <td>0.113220</td>\n",
       "      <td>0.107257</td>\n",
       "    </tr>\n",
       "    <tr>\n",
       "      <th>...</th>\n",
       "      <td>...</td>\n",
       "      <td>...</td>\n",
       "      <td>...</td>\n",
       "      <td>...</td>\n",
       "      <td>...</td>\n",
       "      <td>...</td>\n",
       "      <td>...</td>\n",
       "      <td>...</td>\n",
       "      <td>...</td>\n",
       "      <td>...</td>\n",
       "    </tr>\n",
       "    <tr>\n",
       "      <th>1252</th>\n",
       "      <td>2025-02-14 00:00:00-05:00</td>\n",
       "      <td>360.619995</td>\n",
       "      <td>362.000000</td>\n",
       "      <td>347.500000</td>\n",
       "      <td>355.839996</td>\n",
       "      <td>68277300</td>\n",
       "      <td>0.0</td>\n",
       "      <td>0.0</td>\n",
       "      <td>-0.000281</td>\n",
       "      <td>-0.000281</td>\n",
       "    </tr>\n",
       "    <tr>\n",
       "      <th>1253</th>\n",
       "      <td>2025-02-18 00:00:00-05:00</td>\n",
       "      <td>355.010010</td>\n",
       "      <td>359.100006</td>\n",
       "      <td>350.019989</td>\n",
       "      <td>354.109985</td>\n",
       "      <td>51631700</td>\n",
       "      <td>0.0</td>\n",
       "      <td>0.0</td>\n",
       "      <td>-0.004862</td>\n",
       "      <td>-0.004874</td>\n",
       "    </tr>\n",
       "    <tr>\n",
       "      <th>1254</th>\n",
       "      <td>2025-02-19 00:00:00-05:00</td>\n",
       "      <td>354.000000</td>\n",
       "      <td>367.339996</td>\n",
       "      <td>353.670013</td>\n",
       "      <td>360.559998</td>\n",
       "      <td>67094400</td>\n",
       "      <td>0.0</td>\n",
       "      <td>0.0</td>\n",
       "      <td>0.018215</td>\n",
       "      <td>0.018051</td>\n",
       "    </tr>\n",
       "    <tr>\n",
       "      <th>1255</th>\n",
       "      <td>2025-02-20 00:00:00-05:00</td>\n",
       "      <td>361.510010</td>\n",
       "      <td>362.299988</td>\n",
       "      <td>348.000000</td>\n",
       "      <td>354.399994</td>\n",
       "      <td>45965400</td>\n",
       "      <td>0.0</td>\n",
       "      <td>0.0</td>\n",
       "      <td>-0.017085</td>\n",
       "      <td>-0.017232</td>\n",
       "    </tr>\n",
       "    <tr>\n",
       "      <th>1256</th>\n",
       "      <td>2025-02-21 00:00:00-05:00</td>\n",
       "      <td>353.440002</td>\n",
       "      <td>354.980011</td>\n",
       "      <td>334.420013</td>\n",
       "      <td>337.799988</td>\n",
       "      <td>73787800</td>\n",
       "      <td>0.0</td>\n",
       "      <td>0.0</td>\n",
       "      <td>-0.046840</td>\n",
       "      <td>-0.047972</td>\n",
       "    </tr>\n",
       "  </tbody>\n",
       "</table>\n",
       "<p>1256 rows × 10 columns</p>\n",
       "</div>"
      ],
      "text/plain": [
       "                          Date        Open  ...  simple_return  log_return\n",
       "1    2020-02-25 00:00:00-05:00   56.599998  ...      -0.040634   -0.041482\n",
       "2    2020-02-26 00:00:00-05:00   52.166668  ...      -0.026390   -0.026745\n",
       "3    2020-02-27 00:00:00-05:00   48.666668  ...      -0.128146   -0.137133\n",
       "4    2020-02-28 00:00:00-05:00   41.980000  ...      -0.016215   -0.016348\n",
       "5    2020-03-02 00:00:00-05:00   47.417332  ...       0.113220    0.107257\n",
       "...                        ...         ...  ...            ...         ...\n",
       "1252 2025-02-14 00:00:00-05:00  360.619995  ...      -0.000281   -0.000281\n",
       "1253 2025-02-18 00:00:00-05:00  355.010010  ...      -0.004862   -0.004874\n",
       "1254 2025-02-19 00:00:00-05:00  354.000000  ...       0.018215    0.018051\n",
       "1255 2025-02-20 00:00:00-05:00  361.510010  ...      -0.017085   -0.017232\n",
       "1256 2025-02-21 00:00:00-05:00  353.440002  ...      -0.046840   -0.047972\n",
       "\n",
       "[1256 rows x 10 columns]"
      ]
     },
     "execution_count": 13,
     "metadata": {},
     "output_type": "execute_result"
    }
   ],
   "source": [
    "compute_returns(df.reset_index())"
   ]
  },
  {
   "cell_type": "code",
   "execution_count": 14,
   "metadata": {},
   "outputs": [],
   "source": [
    "from utilities.graphs_plots import plot_return_distribution"
   ]
  },
  {
   "cell_type": "code",
   "execution_count": 15,
   "metadata": {},
   "outputs": [
    {
     "data": {
      "application/vnd.plotly.v1+json": {
       "config": {
        "plotlyServerURL": "https://plot.ly"
       },
       "data": [
        {
         "marker": {
          "color": "royalblue",
          "line": {
           "color": "black",
           "width": 1.2
          }
         },
         "nbinsx": 300,
         "opacity": 0.75,
         "showlegend": false,
         "type": "histogram",
         "x": {
          "bdata": "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",
          "dtype": "f8"
         }
        },
        {
         "line": {
          "color": "red",
          "width": 2
         },
         "mode": "lines",
         "name": "Gaussienne (μ=0.23%, σ=4.14%)",
         "type": "scatter",
         "x": {
          "bdata": "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",
          "dtype": "f8"
         },
         "y": {
          "bdata": "ibvf/1N9AD9ABDE/wWQBPwjFN7RcWAI/x4wFIsNYAz8FRv7FmGYEP+cRta2JggU/DQtcEEqtBj+Qi+mrlucHPwy6FiY1Mgk/a0tccfSNCj+roRM2rfsLP5eo4z9CfA0/Uhii76AQDz+7i+nY4FwQP5pC+TxUPBE/K85ZoTInEj93f7JJCh4TP9hYVAVwIRQ/8YFYd/8xFT+xcJphW1AWP9jPp/ItfRc/eO/AFim5GD/7YAXMBgUaPwsw6XmJYRs/wQEQTHzPHD8GRKyQs08eP+RzgRoN4x8/LLZUUzjFID8hyx4jaKMhPyHjAmaUjCI/TsQnH0GBIz8byIgm+IEkP/IDQGZJjyU/dbwbGsupJj8xiJIRGtInP2wIKvTZCCk/pahkiLVOKj9nYkv9XqQrP1AMqTaQCi0/nFENHAuCLj8H/Vb1zAUwP5riHsUH1DA/t1do8iOsMT8RB/MglI4yP/jIWNLPezM/42nellN0ND9t2/0/oXg1P05CtxRAiTY/bKm2B72mNz+9cVzvqtE4P4Hptr+iCjo/ys57xkNSOz8bzhDpM6k8P2tusuQfED4/aCfJkLuHPz+NX74RYYhAP10wSzz7VUE/ARphrREtQj/rzqDnDQ5DP73QD7Jd+UM/oJ98QHPvRD+G/zVdxfBFPyOZHpTP/UY/B2wmXxIXSD+gsDNUEz1JP1n6hFRdcEo/b5OWvYCxSz9CPpWbEwFNP2mwaN2xX04/dEpgiv3NTz9yX8Z8T6ZQP/W/aIUiblE/qoHcsNI+Uj9ChAtRvhhTPx0jQldH/FM/mINfdNPpVD8UNP45zOFVPyAMmzyf5FY/R07ANr7yVz8UJDstnwxZP72dYZS8Mlo/ZnFvdpVlWz8Zy/+araVcPySNqq+N810/EnTLccNPXz/bz7zscF1gP3MK26LAGmE/zOzr1B/gYT9nLB5e4K1iPz5nIRNXhGM/wcDM2ttjZD+y0XHHyUxlP7FY3zB/P2Y/iCEXz108Zz8SmrrVykNoP7GQMRAvVmk/QZuO/vZzaj9epzTzkp1rP/I0QTF302w/37++CxwWbj8q2aIF/mVvP5i6TfnOYXA/s3VXjMAXcT9TFFmpGNVxP7pGzJkemnI/4XZQFRxncz+FkjFUXTx0PyfTYCIxGnU/ETjh8ugAdj9rXKnz2PB2P25V/CFY6nc/5Dk7X8DteD+E8DCGbvt5P6zc2YDCE3s/xPioXh83fD9I5Utr62V9P8Fs70WQoH4/V/EF+Xrnfz+0mEgJjp2AP0xheN7zTYE/Zk0b7CoFgj/ldwEKccOCP9NU9AQGiYM/+MstrCtWhD/JwxTfJSuFPzymP5s6CIY/Cl69CrLthj/MRKWS1tuHP89v7uH00og/y7+OAFzTiT+iDuJeXd2KP7LKWeVM8Ys/CUV1BIEPjT8q6wLFUjiOP1uaqtgdbI8/VZZgVaBVkD9zqbI4DvuQP1nhcp+KppE/8la4CUlYkj97N4Z3fhCTP4ug7HFhz5M/sedNFCqVlD+3KcgVEmKVP1T1wtJUNpY/RN2gVi8Slz8ispRl4PWXP9gemoao4Zg/AVSRDcrVmT/KaH0lidKaP/gK5dor2Js/cA1VJvrmnD9RWwT3Pf+dP3fHmD1DIZ8/xxOG+6smoD/wjdgb5sGgPwdtKxt5YqE/CKLFK48Ioj9mQ32cU7SiP8q4dd7yZaM/2tLripodpD8kWg9pedukP3aX6XO/n6U/n1FQ4J1qpj9cteQiRzynP7aTHfbuFKg/tFxcYMr0qD/SMwy6D9ypP55zyrP2yqo/du6XXLjBqz86MRIoj8CsP/QFtPS2x60/CGocEm3Xrj+ZJFtH8O+vPxUQoWzAiLA/T1FdSDAesT9Quo5gabixPzGARieOV7I/tjQo2sH7sj9xSJeFKKWzP6P64wfnU7Q/2yd3FCMItT/PZPw2A8K1P8LNidaugbY/7OzEOE5Htz/NFwSFChO4P+eba8cN5bg/ihAG9IK9uT/XHNfplZy6P9L953Vzgrs/qhFNVklvvD/sqSM9RmO9P5Vgh9OZXr4/Hid+vHRhvz87Ie1LBDbAP0mwiAJEv8A/GfgDU5NMwT/d7+eQDN7BPyvwrJPKc8I/SSQMuOgNwz+PVUnhgqzDP+mZdHq1T8Q/WGqjd533xD9fpiBXWKTFP94EkyIEVsY/a3IZcL8Mxz+72VxjqcjHP0nRlq7hicg/bKeMk4hQyT86Q37kvhzKPxRPCAWm7so/LyH56l/Gyz8x0RcfD6TMPwLs3L3Wh80/WDIceNpxzj9Ez56TPmLPP+e31vWTLNA/49LE+F2r0D+H/mpWkC3RP5kU9l0+s9E/CVkQqns80j+qwPkgXMnSP+ZalvTzWdM/945yolfu0z9b3bzzm4bUPzTWNP3VItU/OPQOHxvD1T+5DM0EgWfWP4YDC6UdENc/q3M/QQe91z9l+29lVG7YP9vb2OcbJNk/G5yH6HTe2T98X+jQdp3aP/KfRVM5Yds/mvw5atQp3D8AzhNYYPfcP4MxKqb1yd0/eD4jJK2h3j+lFyvnn37fP2TGjaRzMOA/sADKc06k4D+wpoBR7RrhP5Cnyk5dlOE/7PIWnasQ4j8hh5WN5Y/iP17tmZAYEuM/sAH1NFKX4z/V5UUnoB/kP8j9QTEQq+Q/x9bzOLA55T/X2fA/jsvlP0ashWK4YOY/GCHZ1jz55j/DnwXsKZXnP+blKAmONOg/JQpqrHfX6D/iqPVp9X3pP6si8OoVKOo/TNhd7OfV6j9ATwE+eofrP5csL8HbPOw/1/SXZxv27D8tgQcySLPtP4YcGi9xdO4/IzvneaU57z/Y4VAcegHwP7Lvlk02aPA/oyXW7A7R8D+dkn2ZCzzxP6IYlvUzqfE/Vkv4pI8Y8j9vCn1MJoryP9fZKJH//fI/7/lRFyN08z9IQ8GBmOzzP2LLzXBnZ/Q/AVdzgZfk9D+UomNMMGT1P6qHEmU55vU/sAm9WLpq9j8yVGutuvH2P4y27eBBe/c/lKrUZ1cH+D/B82OsApb4P9PngA1LJ/k/vfCb3Te7+T/+WpVh0FH6P++Dnc8b6/o/yHwQTiGH+z9nOU3y5yX8PxJiiL92x/w/y+GapdRr/T+sS8x/CBP+P00zmRMZvf4/D5Z1Dw1q/z+VucWE9QwAQDDaOr9cZgBAvMP7Zz/BAEBVJtihoB0BQCEf5oCDewFA1PvYCevaAUCZgVYx2jsCQMnLSttTngJAydc62loCA0CH05Xu8WcDQNlFBcYbzwNAUSe8+to3BEDjA8USMqIEQOo9T38jDgVAEoz7m7F7BUDAyyeu3uoFQCxDOuSsWwZAG27sVB7OBkBRcZX+NEIHQJhRdMbytwdAEAv6d1kvCEAqpxPEaqgIQFFvdEAoIwlAn1vgZpOfCUDA3HaUrR0KQKoh/gh4nQpATvku5vMeC0C1cQEvIqILQAxW+sYDJwxA8K15cZmtDEA8YArR4zUNQI0cs2bjvw1A5q5IkZhLDkAX4cGMA9kOQCgOjXEkaA9AToznM/v4D0AIiZvRw0UQQM6dsrTkjxBAEKseBeDaEED6SmZxtSYRQPduYpRkcxFAqR7x9OzAEUCLpakFTg8SQNdBkiSHXhJAV2jXmpeuEkDRr4Scfv8SQHN3P0g7URNAa1sDp8yjE0CLiuCrMfcTQEsQvDNpSxRA+SUSBXKgFEA0nrrPSvYUQEZ9ryzyTBVAX9HVnWakFUD/3MiNpvwVQCqmp0+wVRZAivzkHoKvFkDFCBofGgoXQI9221t2ZRdAaUuRyJTBF0A3e1FAcx4YQApMvYUPfBhAqZnhQmfaGECoCRoJeDkZQDZA91A/mRlAICUoerr5GUB1SWbL5loaQNd7ZXLBvBpAApvGg0cfG0CDtA37dYIbQKh9m7pJ5htA/zOqi79KHEBo8k0e1K8cQEyHeAmEFR1AqtcAy8t7HUAA263Hp+IdQDA6RUsUSh5Ab5ydiA2yHkCfq7SZjxofQGbZyH+Wgx9Anu12Ix7tH0D7sm0qkSsgQBjX22XPYCBAz5vNk0eWIEDnOgh498sgQPziZsrcASFAqSL1NvU3IUBeTQtePm4hQE7bbNS1pCFAwsVoI1nbIUCo4PvIJRIiQO8x9TcZSSJApEYc2DCAIkCRhVkGarciQPZ+4BTC7iJA0TdcSzYmI0Chbx3nw10jQJ/eShtolSNAI2oTESDNI0CdTOLn6AQkQOotlbW/PCRArii0hqF0JECQuKtei6wkQFyNCDh65CRA3j21BGscJUCi1TmuWlQlQOM3/RVGjCVAtVGIFSrEJUDvFMt+A/wlQCo1YxzPMyZAb5/ksYlrJkABpSP8L6MmQFfRgLG+2iZApWI2gjISJ0AeXKcYiEknQNcosBm8gCdAjcX4JMu3J0A9Z0jVse4nQDuU2sBsJShAAKW1efhbKEBwoQKOUZIoQCFvZoh0yChA3kRc8F3+KEDkVpFKCjQpQJevQRl2aSlAlSeW3J2eKUDobwMTftMpQPsgqjkTCCpAMMC3zFk8KkArrshHTnAqQCTvSibtoypA1r7h4zLXKkCm4Mn8GworQAmdPu6kPCtAnlzfNspuK0AQ0RVXiKArQAacfNHb0StA2GNGK8ECLECRRaXsNDMsQNmTMqEzYyxABdJW2LmSLEA92rElxMEsQOsdgyFP8CxAEu8RaVceLUBqwRWf2UstQNFRHmzSeC1AfqL7fj6lLUCLuiWNGtEtQCQXJFNj/C1AqLz0lBUnLkA11nIeLlEuQK7RvMOpei5AruaZYYWjLkCs9t7dvcsuQKq00idQ8y5AzQKRODkaL0BJdG0TdkAvQDbiVMYDZi9A3gEuat+KL0Ba6zgjBq8vQB5/bSF10i9AspnYoCn1L0BGAvx0kAswQL2JCiksHDBAA+/OnWYsMEBHgj6LPjwwQIn4N7CySzBAyMGt0sFaMEBojc+/amkwQNn0MkysdzBAN0X7U4WFMEBLYAC79JIwQNCt9Gz5nzBAzBWKXZKsMEAs/ZWIvrgwQME9NPJ8xDBAJhPppszPMEAa9sG7rNowQB9gdU4c5TBAXXGBhRrvMED2ckmQpvgwQCowMqe/ATFA/CC9C2UKMUANYaIIlhIxQNtt6fFRGjFAhKcAJZghMUCxj9MIaCgxQE3C3w3BLjFAEqRIrqI0MUAbw+ltDDoxQPTlZ9r9PjFA6MVAi3ZDMUCBcdkhdkcxQGdUi0n8SjFAM+KvtwhOMUDt4aorm1AxQCRY826zUjFADg4bVVFUMUARtNS7dFUxQKie+IodVjFAqRyItEtWMUBJZq80/1UxQHgkxhE4VTFAjpBOXPZTMUBgLPMuOlIxQDITg64DUDFATuTsCVNNMUAdSDh6KEoxQCkRfkKERjFAWfrer2ZCMUBwBHkZ0D0xQKh0W+DAODFA13Z5bzkzMUCeZZs7Oi0xQJS7TsPDJjFAYbDUjtYfMUBChQ8wcxgxQHOEbkKaEDFAabfYakwIMUDlV5ZXiv8wQD0AOcBU9jBAWp+CZazsMEBDNUsRkuIwQC9dZZYG2DBAVKqB0ArNMED33BCkn8EwQE31JP7FtTBAHypR1H6pMEAtyYgky5wwQKQH/fSrjzBACcn5UyKCMEA2Y8FXL3QwQFdmZx7UZTBAm2+qzRFXMEAIDs2S6UcwQIPAbaJcODBAixReOGwoMEBQ7XiXGRgwQLD6dwlmBzBAJdCQvaXsL0A7lr3cwskvQFS0FCsmpi9Ar+WOb9KBL0DQ8SJ9ylwvQJUraDIRNy9AgcI3eakQL0Bw90xGlukuQKJF5JjawS5AsJFZenmZLkCfb8X9dXAuQK+RmT/TRi5Ad3E8ZZQcLkC6RKScvPEtQAxQ8RtPxi1AiqgHIU+aLUCjdijxv20tQIHLitikQC1A5Br0KQETLUDgalA+2OQsQGBLSnQttixAyqbiLwSHLEAkfQjaX1csQF+bMOBDJyxA3V/ts7P2K0BJnYbKssUrQOSskZxElCtAG8GJpWxiK0D4iGhjLjArQB81P1aN/SpAjO7P/4zKKkBNzyfjMJcqQN1sOYR8YypARAR4Z3MvKkD5VnMRGfspQAhIdAZxxilAP0gayn6RKUAloPneRVwpQASmOsbJJilAQu45/w3xKECvgykHFrsoQEo1s1jlhChAtwaca39OKEAk0Gi05xcoQCQaBKQh4SdApEFlpzCqJ0DK7zgnGHMnQBLxiofbOydA4nZxJ34EJ0AnzrlgA80mQFqVlodulSZA1HtP6sJdJkD6k/LQAyYmQGZBB3007iVACMxCKVi2JUDunz4Jcn4lQJJCMEmFRiVAewSjDZUOJUCndjNzpNYkQGaqTI62niRA3kHnas5mJEBXV0oM7y4kQG5Azmwb9yNAkDKhfVa/I0A+zY0mo4cjQEKOw0UEUCNA2DOhr3wYI0D0D4EuD+EiQOBPh4K+qSJAkzpyYY1yIkAEaGx2fjsiQEfz4GGUBCJAuahRudHNIUBlMS8HOZchQME7s8rMYCFApaK8d48qIUCpka12g/QgQKmmSySrviBAZQ+i0QiJIEDkoeXDnlMgQAPuWjRvHiBA7It8oPjSH0ATd1txkGkfQJIeKgWqAB9A0xw3bUmYHkBpuCeicjAeQBlG24MpyR1APFJS2XFiHUCPiJlQT/wcQEJRuH7FlhxAIBmj39cxHEDMOjHWic0bQDR9FqzeaRtAjxzgkdkGG0BHUfWefaQaQCRIm9HNQhpAAX/8Ds3hGUAqeDMjfoEZQHy2WMHjIRlA7fOTgwDDGEB6gzDr1mQYQGrPtGBpBxhAO+T8M7qqF0Af+Fecy04XQPveqLif8xZAGlqJjziZFkDKMnAPmD8WQIUO2g7A5hVAdet0TLKOFUBVM05vcDcVQDhTAwf84BRAU8X0i1aLFEBne3tfgTYUQK6WIMx94hNA+1rXBU2PE0AgSjkq8DwTQOpUxEBo6xJArg4bO7aaEkBX0Eb12koSQOu3+zXX+xFAi3HerqutEUBstsv8WGARQCVvIajfExFAqGUJJUDIEEBGdMXTen0QQDoe/QCQMxBAN/4YzP/UD0D9+6hSlUQPQFpjGL3gtQ5AmcUmDuIoDkClM4wkmZ0NQPFLorsFFA1AqxUPbCeMDEAdhXGs/QUMQO6ED9KHgQtApWCFEcX+CkA+bXZ/tH0KQK3MPhFV/glAJSqmnaWACUDpTJPdpAQJQDlgwGxRighAWM9vyqkRCEAOlSFarJoHQNHeSGRXJQdAAuQBF6mxBkCE0seGnz8GQBOyKq84zwVAeiGFc3JgBUAtz7GfSvMEQF+SwOi+hwRAuAer7cwdBEDglgg4crUDQFvGwTysTgNAsMPCXHjpAkDoBq3l04UCQMX4hxK8IwJA34NwDC7DAUCceUfrJmQBQJy0XrajBgFAyeIkZaGqAEBB4s/fHFAAQBw5CwAm7v8/zJkGIwE//z/OPIalxJL+P2ogQOtp6f0/KhzwP+pC/T8/WpjYPp/8P2/3vdRg/vs/Y62hP0lg+z8jaHQR8cT6P12shzBRLPo/oLN5cmKW+T/fJV2dHQP5P4RY3Gh7cvg/Uf1Xf3Tk9z8sLAF/AVn3P0C07voa0PY/5aItfLlJ9j8A78yC1cX1P/s55IZnRPU/AZiV+WfF9D+RUgpGz0j0PyaaatKVzvM/DhzQALRW8z9MdDMwIuHyPy5yVL3YbfI/bCqdA9D88T/8z/9dAI7xP8xPzydiIfE/4KuSve228D9xE9N9m07wP0BuyZPH0O8/VLFUDX4I7z/ILqc6S0TuPwH2K/gfhO0/GH/BLe3H7D+9zBbQow/sP+Mg/uE0W+s/wE+1dZGq6j+MvSOuqv3pP2QVDsBxVOk/Lck/89eu6D9WbKqjzgzoP4X8ekJHbuc/kSslVzPT5j+CwmSAhDvmP+4yNXUsp+U/a3C/BR0W5T8DKz4cSIjkP9qF2L2f/eM/AmZzCxZ24z8gdnlCnfHiP1v9mb0ncOI/Y6h+9afx4T90ZHiBEHbhP+tsIxhU/eA/TK0CkGWH4D/WmRLgNxTgPyRDp0B8R98/pbuYFNdr3j/gRQfzZpXdPx0v5dcSxNw/lO/dBML32z9rUhsCXDDbP8CO+57Ibdo/RZy48u+v2T/8EgFduvbYP9DjgoYQQtg/SjloYduR1z+Nz8YpBObWP6gTAmZ0PtY/Alog5xWb1T8IfBPJ0vvUP74t9XKVYNQ/CFs3l0jJ0z9l3cgz1zXTP1DaLpIsptI//BmTRzQa0j/Fpsc02pHRP0MEQIYKDdE/Kk4AtLGL0D9FjIKBvA3QP4MXJfsvJs8/3RNBBGM3zj+4/RVo7U7NP/unvwWrbMw/xKUqUXiQyz8kL3ZSMrrKPzehRqW26ck/iC4JeOMeyT9lUCmLl1nIPy6KODCymcc/kgwJSRPfxj8mxbtGmynGP4dlwigrecU/1+nVe6TNxD8WJuJY6SbEP47d5mPchMM/LujOymDnwj8Y5T1EWk7CP+73VA6tucE/BQ5v7T0pwT9PI9Uq8pzAPzP/apOvFMA/67qp7Lggvz976yxHvx++P3+jV9VAJr0/ur44Mg00vD9kVBHy9Ei7P6ZJZp/JZLo/4NAIuF2HuT8gnBaqhLC4P3SG8tAS4Lc/NnE2ct0Vtz/tDZ+6ulG2PyhJ8rqBk7U/awThZArbtD87yuSHLSi0P/cfGs7EerM/HRcYuarSsj/suMWeui+yP1TiLabQkbE/BCNSxMn4sD8vLP24g2SwPxKvKhe6qa8/9pPfD2qTrj9pY0l214WtP4szyuDDgKw/BJOlW/KDqz+xQrViJ4+qP1DEI9sooqk/qJAtDb68qD+4vemdr96nP1TWGonHB6c/sZsIG9E3pj+UYGPqmG6lPzWoMdLsq6Q/uabI65vvoz8iP9CIdjmjPxwNUy1OiaI/agbbifXeoT8LNZt1QDqhPzgGp+gDm6A/C6I39hUBoD+1cv+Nm9ieP2hhHCcHuZ0/9RCAPSGjnD/vt4NgnpabP6CWQh41k5o/fjrd+J2YmT/Ewd1bk6aYPwyivZHRvJc/qGqNuRbblj+K8L68IgGWP/BFEkW3LpU/T9ilspdjlD+GACoSiZ+TP5dNOBNS4pI/F8PO/rorkj9aP++tjXuRP+gyY4CV0ZA/nMqjU58tkD99S83z8h6PP8dSnmLn7Y0/vPWINr7HjD+7R9hnHKyLP1y2kpOpmoo/UM4B6w+TiT8DD4Mj/JSIP4SdoWYdoIc/wJl4QiW0hj/5zl2ax9CFPyJs1Je69YQ/a2jHm7YihD+sKgswdleDP94FJvm1k4I/Vw9fqDTXgT8LzRLusiGBPy8yTWzzcoA/ya9QU3WVfz/3sd4InlF+PzdiCUzxGX0/F/EW7QLuez9woaUhas16P3GeBW3Bt3k/mWAUiaaseD9zKJhPuqt3PwUPGqSgtHY/ySE9XgDHdT+X95A0g+J0P5Io3qfVBnQ/Zgfr7qYzcz8e+rbiqGhyPwLFKuuPpXE/MR087BLqcD/szIIz6zVwP/Jqe8yoEW8/KOmL3xjFbT/u4tzgpoVsP5IqnFnXUms/Vtrl+jIsaj9C8Ph9RhFpP5O6NoWiAWg/tpTpfdv8Zj+kcc+CiQJmP9qvZD9IEmU/27nr07YrZD9a8i26d05jP2py8qowemI/cSMnhIquYT/pv7gvMetgP2NNFovTL2A/nE65nkb4Xj92bk30qZ9dP0f5/W0/VVw/1B/eknoYWz85oFPv0+hZP3DpmevIxVg/qolto9uuVz8bdtm+kqNWPwTTH0x5o1U/iu63mh6uVD8GN1sXFsNTP3AIGyn34VI/njx5D10KUj99g33B5jtRP3CXwc02dlA/EPTcduZxTz/U80nYigdOP6utl/2zrEw/1d17ZsFgSz/k7qWdGCNKP1mwegMl80g/FatvmlfQRz9gn/vUJrpGP23eEWUOsEU/O2IeDY+xRD/MtHhyLr5DPyfhQ/F21UI/WNqxcff2QT9e76A+QyJBP4gQit3xVkA/M7Vtzz0pPz/ECG3J07U9Pw38EUzsUjw/pnLvR9X/Oj+6gie347s5PwnooVtzhjg/jrVsf+ZeNz87mDe3pUQ2PzBW2qYfNzU/XonXx8g1ND836cwxG0AzP4HNwmSWVTI/IOVMFb91MT9Eb276HqAwPxYwaTqJqC8/V8zzU4YjLj9194uGZLAsPwZseqxbTis/OBAo4av8KT8CcfQvnbooP1Lk5EV/hyc/hM0VJqliJj/6DtjgeEslPyc/ZU1TQSQ/8csVxqNDIz8VuQTn21EiP+s2DU9zayE/Bs4OY+ePID++yMomdn0fP7G7BUft7h0/lzkx505zHD8SPn+YvwkbP4jiHFhtsRk/U1EZLo9pGD/UDejPZDEXP+7AX0Y2CBY/QJsXl1PtFD96NQZxFOATP120RdzX3xI/kcLh7APsET9IxJR4BQQRP8hwWs9PJxA/yn997biqDj/TvaHPVRsNP6MqRZ+Anws/GH56pE42Cj8/Yeyf394IP+kTGlpdmAc/5Uv+NvthBj8r9vfN9ToFP4rIzYWSIgQ/nMimNB8YAz9RJtPD8RoCPyvvQddnKgE/3kSBeOZFAD/7vU+Ks9n+PkphD0FpPf0+9TgV0eC1+z4YRTZbGUL6Pmjq99od4fg+CLPkoQSS9z4tS1DY7lP2Pno7VgMIJvU+TJ3gj4UH9D4=",
          "dtype": "f8"
         }
        }
       ],
       "layout": {
        "annotations": [
         {
          "arrowhead": 2,
          "ax": 40,
          "ay": -40,
          "font": {
           "color": "lime"
          },
          "showarrow": true,
          "text": "μ: 0.23%",
          "x": 0.00229172742029176,
          "y": 15.603383402736103
         },
         {
          "arrowhead": 2,
          "ax": -40,
          "ay": -40,
          "font": {
           "color": "orange"
          },
          "showarrow": true,
          "text": "μ - σ: -3.91%",
          "x": -0.03911653629245337,
          "y": 12.135964868794746
         },
         {
          "arrowhead": 2,
          "ax": 40,
          "ay": -40,
          "font": {
           "color": "orange"
          },
          "showarrow": true,
          "text": "μ + σ: 4.37%",
          "x": 0.04369999113303689,
          "y": 12.135964868794746
         }
        ],
        "legend": {
         "orientation": "h",
         "x": 0.1,
         "xanchor": "left",
         "y": 0.93,
         "yanchor": "bottom"
        },
        "shapes": [
         {
          "line": {
           "color": "lime",
           "dash": "dash"
          },
          "type": "line",
          "x0": 0.00229172742029176,
          "x1": 0.00229172742029176,
          "y0": 0,
          "y1": 17.33709266970678
         },
         {
          "line": {
           "color": "orange",
           "dash": "dot"
          },
          "type": "line",
          "x0": -0.03911653629245337,
          "x1": -0.03911653629245337,
          "y0": 0,
          "y1": 17.33709266970678
         },
         {
          "line": {
           "color": "orange",
           "dash": "dot"
          },
          "type": "line",
          "x0": 0.04369999113303689,
          "x1": 0.04369999113303689,
          "y0": 0,
          "y1": 17.33709266970678
         }
        ],
        "template": {
         "data": {
          "bar": [
           {
            "error_x": {
             "color": "#2a3f5f"
            },
            "error_y": {
             "color": "#2a3f5f"
            },
            "marker": {
             "line": {
              "color": "white",
              "width": 0.5
             },
             "pattern": {
              "fillmode": "overlay",
              "size": 10,
              "solidity": 0.2
             }
            },
            "type": "bar"
           }
          ],
          "barpolar": [
           {
            "marker": {
             "line": {
              "color": "white",
              "width": 0.5
             },
             "pattern": {
              "fillmode": "overlay",
              "size": 10,
              "solidity": 0.2
             }
            },
            "type": "barpolar"
           }
          ],
          "carpet": [
           {
            "aaxis": {
             "endlinecolor": "#2a3f5f",
             "gridcolor": "#C8D4E3",
             "linecolor": "#C8D4E3",
             "minorgridcolor": "#C8D4E3",
             "startlinecolor": "#2a3f5f"
            },
            "baxis": {
             "endlinecolor": "#2a3f5f",
             "gridcolor": "#C8D4E3",
             "linecolor": "#C8D4E3",
             "minorgridcolor": "#C8D4E3",
             "startlinecolor": "#2a3f5f"
            },
            "type": "carpet"
           }
          ],
          "choropleth": [
           {
            "colorbar": {
             "outlinewidth": 0,
             "ticks": ""
            },
            "type": "choropleth"
           }
          ],
          "contour": [
           {
            "colorbar": {
             "outlinewidth": 0,
             "ticks": ""
            },
            "colorscale": [
             [
              0,
              "#0d0887"
             ],
             [
              0.1111111111111111,
              "#46039f"
             ],
             [
              0.2222222222222222,
              "#7201a8"
             ],
             [
              0.3333333333333333,
              "#9c179e"
             ],
             [
              0.4444444444444444,
              "#bd3786"
             ],
             [
              0.5555555555555556,
              "#d8576b"
             ],
             [
              0.6666666666666666,
              "#ed7953"
             ],
             [
              0.7777777777777778,
              "#fb9f3a"
             ],
             [
              0.8888888888888888,
              "#fdca26"
             ],
             [
              1,
              "#f0f921"
             ]
            ],
            "type": "contour"
           }
          ],
          "contourcarpet": [
           {
            "colorbar": {
             "outlinewidth": 0,
             "ticks": ""
            },
            "type": "contourcarpet"
           }
          ],
          "heatmap": [
           {
            "colorbar": {
             "outlinewidth": 0,
             "ticks": ""
            },
            "colorscale": [
             [
              0,
              "#0d0887"
             ],
             [
              0.1111111111111111,
              "#46039f"
             ],
             [
              0.2222222222222222,
              "#7201a8"
             ],
             [
              0.3333333333333333,
              "#9c179e"
             ],
             [
              0.4444444444444444,
              "#bd3786"
             ],
             [
              0.5555555555555556,
              "#d8576b"
             ],
             [
              0.6666666666666666,
              "#ed7953"
             ],
             [
              0.7777777777777778,
              "#fb9f3a"
             ],
             [
              0.8888888888888888,
              "#fdca26"
             ],
             [
              1,
              "#f0f921"
             ]
            ],
            "type": "heatmap"
           }
          ],
          "histogram": [
           {
            "marker": {
             "pattern": {
              "fillmode": "overlay",
              "size": 10,
              "solidity": 0.2
             }
            },
            "type": "histogram"
           }
          ],
          "histogram2d": [
           {
            "colorbar": {
             "outlinewidth": 0,
             "ticks": ""
            },
            "colorscale": [
             [
              0,
              "#0d0887"
             ],
             [
              0.1111111111111111,
              "#46039f"
             ],
             [
              0.2222222222222222,
              "#7201a8"
             ],
             [
              0.3333333333333333,
              "#9c179e"
             ],
             [
              0.4444444444444444,
              "#bd3786"
             ],
             [
              0.5555555555555556,
              "#d8576b"
             ],
             [
              0.6666666666666666,
              "#ed7953"
             ],
             [
              0.7777777777777778,
              "#fb9f3a"
             ],
             [
              0.8888888888888888,
              "#fdca26"
             ],
             [
              1,
              "#f0f921"
             ]
            ],
            "type": "histogram2d"
           }
          ],
          "histogram2dcontour": [
           {
            "colorbar": {
             "outlinewidth": 0,
             "ticks": ""
            },
            "colorscale": [
             [
              0,
              "#0d0887"
             ],
             [
              0.1111111111111111,
              "#46039f"
             ],
             [
              0.2222222222222222,
              "#7201a8"
             ],
             [
              0.3333333333333333,
              "#9c179e"
             ],
             [
              0.4444444444444444,
              "#bd3786"
             ],
             [
              0.5555555555555556,
              "#d8576b"
             ],
             [
              0.6666666666666666,
              "#ed7953"
             ],
             [
              0.7777777777777778,
              "#fb9f3a"
             ],
             [
              0.8888888888888888,
              "#fdca26"
             ],
             [
              1,
              "#f0f921"
             ]
            ],
            "type": "histogram2dcontour"
           }
          ],
          "mesh3d": [
           {
            "colorbar": {
             "outlinewidth": 0,
             "ticks": ""
            },
            "type": "mesh3d"
           }
          ],
          "parcoords": [
           {
            "line": {
             "colorbar": {
              "outlinewidth": 0,
              "ticks": ""
             }
            },
            "type": "parcoords"
           }
          ],
          "pie": [
           {
            "automargin": true,
            "type": "pie"
           }
          ],
          "scatter": [
           {
            "fillpattern": {
             "fillmode": "overlay",
             "size": 10,
             "solidity": 0.2
            },
            "type": "scatter"
           }
          ],
          "scatter3d": [
           {
            "line": {
             "colorbar": {
              "outlinewidth": 0,
              "ticks": ""
             }
            },
            "marker": {
             "colorbar": {
              "outlinewidth": 0,
              "ticks": ""
             }
            },
            "type": "scatter3d"
           }
          ],
          "scattercarpet": [
           {
            "marker": {
             "colorbar": {
              "outlinewidth": 0,
              "ticks": ""
             }
            },
            "type": "scattercarpet"
           }
          ],
          "scattergeo": [
           {
            "marker": {
             "colorbar": {
              "outlinewidth": 0,
              "ticks": ""
             }
            },
            "type": "scattergeo"
           }
          ],
          "scattergl": [
           {
            "marker": {
             "colorbar": {
              "outlinewidth": 0,
              "ticks": ""
             }
            },
            "type": "scattergl"
           }
          ],
          "scattermap": [
           {
            "marker": {
             "colorbar": {
              "outlinewidth": 0,
              "ticks": ""
             }
            },
            "type": "scattermap"
           }
          ],
          "scattermapbox": [
           {
            "marker": {
             "colorbar": {
              "outlinewidth": 0,
              "ticks": ""
             }
            },
            "type": "scattermapbox"
           }
          ],
          "scatterpolar": [
           {
            "marker": {
             "colorbar": {
              "outlinewidth": 0,
              "ticks": ""
             }
            },
            "type": "scatterpolar"
           }
          ],
          "scatterpolargl": [
           {
            "marker": {
             "colorbar": {
              "outlinewidth": 0,
              "ticks": ""
             }
            },
            "type": "scatterpolargl"
           }
          ],
          "scatterternary": [
           {
            "marker": {
             "colorbar": {
              "outlinewidth": 0,
              "ticks": ""
             }
            },
            "type": "scatterternary"
           }
          ],
          "surface": [
           {
            "colorbar": {
             "outlinewidth": 0,
             "ticks": ""
            },
            "colorscale": [
             [
              0,
              "#0d0887"
             ],
             [
              0.1111111111111111,
              "#46039f"
             ],
             [
              0.2222222222222222,
              "#7201a8"
             ],
             [
              0.3333333333333333,
              "#9c179e"
             ],
             [
              0.4444444444444444,
              "#bd3786"
             ],
             [
              0.5555555555555556,
              "#d8576b"
             ],
             [
              0.6666666666666666,
              "#ed7953"
             ],
             [
              0.7777777777777778,
              "#fb9f3a"
             ],
             [
              0.8888888888888888,
              "#fdca26"
             ],
             [
              1,
              "#f0f921"
             ]
            ],
            "type": "surface"
           }
          ],
          "table": [
           {
            "cells": {
             "fill": {
              "color": "#EBF0F8"
             },
             "line": {
              "color": "white"
             }
            },
            "header": {
             "fill": {
              "color": "#C8D4E3"
             },
             "line": {
              "color": "white"
             }
            },
            "type": "table"
           }
          ]
         },
         "layout": {
          "annotationdefaults": {
           "arrowcolor": "#2a3f5f",
           "arrowhead": 0,
           "arrowwidth": 1
          },
          "autotypenumbers": "strict",
          "coloraxis": {
           "colorbar": {
            "outlinewidth": 0,
            "ticks": ""
           }
          },
          "colorscale": {
           "diverging": [
            [
             0,
             "#8e0152"
            ],
            [
             0.1,
             "#c51b7d"
            ],
            [
             0.2,
             "#de77ae"
            ],
            [
             0.3,
             "#f1b6da"
            ],
            [
             0.4,
             "#fde0ef"
            ],
            [
             0.5,
             "#f7f7f7"
            ],
            [
             0.6,
             "#e6f5d0"
            ],
            [
             0.7,
             "#b8e186"
            ],
            [
             0.8,
             "#7fbc41"
            ],
            [
             0.9,
             "#4d9221"
            ],
            [
             1,
             "#276419"
            ]
           ],
           "sequential": [
            [
             0,
             "#0d0887"
            ],
            [
             0.1111111111111111,
             "#46039f"
            ],
            [
             0.2222222222222222,
             "#7201a8"
            ],
            [
             0.3333333333333333,
             "#9c179e"
            ],
            [
             0.4444444444444444,
             "#bd3786"
            ],
            [
             0.5555555555555556,
             "#d8576b"
            ],
            [
             0.6666666666666666,
             "#ed7953"
            ],
            [
             0.7777777777777778,
             "#fb9f3a"
            ],
            [
             0.8888888888888888,
             "#fdca26"
            ],
            [
             1,
             "#f0f921"
            ]
           ],
           "sequentialminus": [
            [
             0,
             "#0d0887"
            ],
            [
             0.1111111111111111,
             "#46039f"
            ],
            [
             0.2222222222222222,
             "#7201a8"
            ],
            [
             0.3333333333333333,
             "#9c179e"
            ],
            [
             0.4444444444444444,
             "#bd3786"
            ],
            [
             0.5555555555555556,
             "#d8576b"
            ],
            [
             0.6666666666666666,
             "#ed7953"
            ],
            [
             0.7777777777777778,
             "#fb9f3a"
            ],
            [
             0.8888888888888888,
             "#fdca26"
            ],
            [
             1,
             "#f0f921"
            ]
           ]
          },
          "colorway": [
           "#636efa",
           "#EF553B",
           "#00cc96",
           "#ab63fa",
           "#FFA15A",
           "#19d3f3",
           "#FF6692",
           "#B6E880",
           "#FF97FF",
           "#FECB52"
          ],
          "font": {
           "color": "#2a3f5f"
          },
          "geo": {
           "bgcolor": "white",
           "lakecolor": "white",
           "landcolor": "white",
           "showlakes": true,
           "showland": true,
           "subunitcolor": "#C8D4E3"
          },
          "hoverlabel": {
           "align": "left"
          },
          "hovermode": "closest",
          "mapbox": {
           "style": "light"
          },
          "paper_bgcolor": "white",
          "plot_bgcolor": "white",
          "polar": {
           "angularaxis": {
            "gridcolor": "#EBF0F8",
            "linecolor": "#EBF0F8",
            "ticks": ""
           },
           "bgcolor": "white",
           "radialaxis": {
            "gridcolor": "#EBF0F8",
            "linecolor": "#EBF0F8",
            "ticks": ""
           }
          },
          "scene": {
           "xaxis": {
            "backgroundcolor": "white",
            "gridcolor": "#DFE8F3",
            "gridwidth": 2,
            "linecolor": "#EBF0F8",
            "showbackground": true,
            "ticks": "",
            "zerolinecolor": "#EBF0F8"
           },
           "yaxis": {
            "backgroundcolor": "white",
            "gridcolor": "#DFE8F3",
            "gridwidth": 2,
            "linecolor": "#EBF0F8",
            "showbackground": true,
            "ticks": "",
            "zerolinecolor": "#EBF0F8"
           },
           "zaxis": {
            "backgroundcolor": "white",
            "gridcolor": "#DFE8F3",
            "gridwidth": 2,
            "linecolor": "#EBF0F8",
            "showbackground": true,
            "ticks": "",
            "zerolinecolor": "#EBF0F8"
           }
          },
          "shapedefaults": {
           "line": {
            "color": "#2a3f5f"
           }
          },
          "ternary": {
           "aaxis": {
            "gridcolor": "#DFE8F3",
            "linecolor": "#A2B1C6",
            "ticks": ""
           },
           "baxis": {
            "gridcolor": "#DFE8F3",
            "linecolor": "#A2B1C6",
            "ticks": ""
           },
           "bgcolor": "white",
           "caxis": {
            "gridcolor": "#DFE8F3",
            "linecolor": "#A2B1C6",
            "ticks": ""
           }
          },
          "title": {
           "x": 0.05
          },
          "xaxis": {
           "automargin": true,
           "gridcolor": "#EBF0F8",
           "linecolor": "#EBF0F8",
           "ticks": "",
           "title": {
            "standoff": 15
           },
           "zerolinecolor": "#EBF0F8",
           "zerolinewidth": 2
          },
          "yaxis": {
           "automargin": true,
           "gridcolor": "#EBF0F8",
           "linecolor": "#EBF0F8",
           "ticks": "",
           "title": {
            "standoff": 15
           },
           "zerolinecolor": "#EBF0F8",
           "zerolinewidth": 2
          }
         }
        },
        "title": {
         "text": "Distribution des Rendements Quotidiens"
        },
        "xaxis": {
         "tickformat": ".2%",
         "title": {
          "text": "Rendement Quotidien"
         }
        },
        "yaxis": {
         "title": {
          "text": "Nombre de Jours"
         }
        }
       }
      }
     },
     "metadata": {},
     "output_type": "display_data"
    }
   ],
   "source": [
    "plot_return_distribution(compute_returns(df.reset_index()))"
   ]
  },
  {
   "cell_type": "code",
   "execution_count": null,
   "metadata": {},
   "outputs": [],
   "source": []
  }
 ],
 "metadata": {
  "kernelspec": {
   "display_name": "var_project",
   "language": "python",
   "name": "python3"
  },
  "language_info": {
   "codemirror_mode": {
    "name": "ipython",
    "version": 3
   },
   "file_extension": ".py",
   "mimetype": "text/x-python",
   "name": "python",
   "nbconvert_exporter": "python",
   "pygments_lexer": "ipython3",
   "version": "3.12.9"
  }
 },
 "nbformat": 4,
 "nbformat_minor": 2
}
